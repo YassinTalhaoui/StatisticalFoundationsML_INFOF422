{
 "cells": [
  {
   "cell_type": "markdown",
   "metadata": {},
   "source": [
    "# INFO-F-422 -  Statistical Foundations of Machine Learning \n",
    "\n",
    "### Jacopo De Stefani - __[Jacopo.De.Stefani@ulb.ac.be](mailto:Jacopo.De.Stefani@ulb.ac.be)__\n",
    "### Théo Verhelst - __[Theo.Verhelst@ulb.ac.be](mailto:Theo.Verhelst@ulb.ac.be)__\n",
    "### Gianluca Bontempi - __[gbonte@ulb.ac.be](mailto:gbonte@ulb.ac.be)__\n",
    "\n",
    "## TP 4 - Predictions: Network-based methods\n",
    "\n",
    "####  March 30,2021\n",
    "\n",
    "#### Materials originally developed by *Bertrand Lebichot, Jacopo De Stefani and Gianluca Bontempi*"
   ]
  },
  {
   "cell_type": "markdown",
   "metadata": {},
   "source": [
    "## Preliminaries\n",
    "\n",
    "### Supervised learning\n",
    "\n",
    "The process of supervised learning involves the presence of an entity (the learner, also called prediction model), whose goal is to learn the mapping between inputs and outputs in a given problem.\n",
    "\n",
    "A supervised learning problem can formulated as follows:\n",
    "\n",
    "\\begin{equation*}\n",
    " y = m(\\mathbf{x})  \n",
    "\\end{equation*}\n",
    "\n",
    "where:\n",
    "- $y$ represents the output variable (also called target)\n",
    "- $\\mathbf{x}$ represents the vector of inputs (also called features).\n",
    "- $m$ is the (unknown) mapping between input and outputs.\n",
    "\n",
    "In the majority of the supervised learning problems, the mapping $m$ between input and outputs is unknown and needs to be estimated on basis of the available input/output observation pairs $(\\mathbf{x}_i,y_i)$.\n",
    "\n",
    "## Classification vs regression\n",
    "\n",
    "Both classification and regression are sub-fields of *supervised learning*. In the two cases, we have predictive variables $\\mathbf{x}$ and a target variable $y$. \n",
    "The main difference betweet the two type of problems is the type of the target variabile:\n",
    "\n",
    "- In classification, $y$ is a discrete variable; i.e $y \\in \\{C_1,\\cdots,C_k\\}$\n",
    "- In regression, $y$ is a continuous variable; i.e $y \\in \\mathbb{R}$\n",
    "\n",
    "In this practical, in order to better understand the classification process, we will tackle the simplest classification case, with $k=2$ possible output classes (called binary classification).\n",
    "\n",
    "The goal of our approach is to be able to learn the mapping between the input features and the predefined discrete output classes, in order to be able to perform an automatic classification, based on the available data. "
   ]
  },
  {
   "cell_type": "markdown",
   "metadata": {},
   "source": [
    "## Classification with Neural Networks"
   ]
  },
  {
   "cell_type": "markdown",
   "metadata": {},
   "source": [
    "In machine learning and cognitive science, an artificial neural network (ANN) is a network \n",
    "of interconnected processing elements, called neurons, which are used to estimate or approximate functions that can depend on a large number of inputs that are generally unknown.\n",
    "The concept of artificial neural networks is inspired by the structure of the central nervous systems of animals, in particular the brain. \n",
    "In such biological neural networks, a set of units (i.e. the neurons) are interconnected with each other to form a data-processing network. The processing capability of the network depends on the strength of the connections between the neurons, which can be dynamically modified across time in response to external stimuli that the network is subject to.\n",
    "This dynamic adaptation of the connections gives this system the possibility to learn from the experiences it is subject to.\n",
    "\n",
    "Both artificial and neural networks are characterized by three features : **architecture**, **activity** and **learning rules**:\n",
    "\n",
    "- The **architecture** is a specification of which input variables are involved in the network and what are the topological relationships between the nodes of the network.\n",
    "- The **activity rule** describes defines how the activities of the neurons change in response to each other (usually with a short time-scale dynamics).\n",
    "- The **learning rule** specifies the way in which the neural network's weights needs to be adapted with time. This learning is usually viewed as taking place on a longer time scale than the time scale of the dynamics under the activity rule. Usually the learning rule will depend on the activities of the neurons. It may also depend on the values of the target values supplied by a teacher.\n"
   ]
  },
  {
   "cell_type": "markdown",
   "metadata": {},
   "source": [
    "For our task, we will focus on a specific family of artificial neural networks, the multi-layer perceptron (MLP). \n",
    "The **architecture** of a multi-layer perceptron is organized in layers, with each layer being fully connected to the following. The first layer, also called input layer, is constituted by the input variables. Following it there are one or more intermediate layers, named hidden layers, yielding to an output layer with one output variable. In this type of network, information moves from the input nodes, through the hidden nodes, to the output node. Moreover, every connection between nodes has an associated weight.\n",
    "\n",
    "In the following, we will focus on a standard one-hidden layer network:\n",
    "![](ANN_FF.png)\n",
    "\n",
    "Described by the equation :\n",
    "\\begin{equation}\n",
    "m(\\mathbf{x}) = f_o \\left( b_o + \\sum_{j=1}^{|H|} w_{jo} \\cdot f_h \\left( \\sum_{k=1}^{|I|} w_{ik} x_{ik} + b_j  \\right) \\right)\n",
    "\\end{equation}\n",
    "\n",
    "\n",
    "where $\\mathbf{x'}$ is the input vector $\\mathbf{x}$, augmented with 1, i.e., $\\mathbf{x'}= (1;\\mathbf{x}^T)^T$ , \n",
    "$w_{ij}$ is the weight of the connection between the $i^\\text{th}$ input node and the $j^\\text{th}$ hidden node, $w_{jo}$ are the weights of the connections between hidden node $j$ and the output node and $|H|$ is the number of hidden nodes. The number of hidden nodes ($|H|$) controls the complexity of the model. \n"
   ]
  },
  {
   "cell_type": "markdown",
   "metadata": {},
   "source": [
    "The **activation rule** of such network is divided into two steps.\n",
    "Firstly, each node $j$ determines its activation $a_j$, by collecting the output of its input nodes:\n",
    "\\begin{equation}\n",
    "a_j = \\sum_{i} w_{ij} x_i \n",
    "\\end{equation}\n",
    "Then, the *activity* of the neuron is computed as a function of the value of the activation $a_j$. In the case of the considered network, we have two different activity functions: $f_h(\\cdot)$ for the hidden layer and $f_o(\\cdot)$ for the output node.\n",
    "Common choices for activity functions are:\n",
    "\n",
    "\\begin{align*}\n",
    "f(x) = x && \\text{Linear} \\\\\n",
    "f(x) = \\frac{1}{1+e^{-x}} && \\text{Logistic} \\\\\n",
    "f(x) = \\tanh(x) && \\text{Hyperbolic tangent} \\\\\n",
    "f(x) = \n",
    "\\begin{cases}\n",
    "1 & x > 0 \\\\\n",
    "-1 & x \\le 0 \\\\\n",
    "\\end{cases} && \\text{Threshold} \\\\\n",
    "\\end{align*}\n"
   ]
  },
  {
   "cell_type": "markdown",
   "metadata": {},
   "source": [
    "Concerning the **learning rule**, the weights are generally estimated using some specific\n",
    "optimization procedure, the most popular one being the backpropagation procedure. Usually, at the beginning, the weights are chosen to be random values near zero and the backpropagation procedure updates the weights in order to minimize the prediction errors. The backpropagation procedure could be done using all the available data in a single session (batch training) or providing the network one training example at a time (online training).\n",
    "The error function minimized by neural networks is nonconvex and so can have multiple local\n",
    "minima. In consequence, the final solution will depend on the value chosen as starting point.\n",
    "Because of this randomness, neural networks are often trained multiple times using different\n",
    "random starting values, and the outputs of the different networks are averaged to obtain the final predictions.\n"
   ]
  },
  {
   "cell_type": "markdown",
   "metadata": {},
   "source": [
    "## Dataset\n",
    "\n",
    "The chosen database is about spam detection. Details can be found here :\n",
    "https://archive.ics.uci.edu/ml/datasets/spambase\n",
    "\n",
    "To import the dataset, just use package ''kernlab''\n",
    "\n",
    "`install.packages(\"kernlab\")`\n",
    "\n",
    "In case of doubts, always remember that R can provide you with the documentation of a function package/using the following syntax:\n",
    "`? name_of_function` or `help(name_of_function)` "
   ]
  },
  {
   "cell_type": "code",
   "execution_count": 1,
   "metadata": {
    "ExecuteTime": {
     "end_time": "2019-04-23T14:46:51.768750Z",
     "start_time": "2019-04-23T14:46:49.653Z"
    }
   },
   "outputs": [
    {
     "name": "stderr",
     "output_type": "stream",
     "text": [
      "Warning message:\n",
      "\"package 'devtools' was built under R version 4.0.4\"\n",
      "Loading required package: usethis\n",
      "\n",
      "Warning message:\n",
      "\"package 'usethis' was built under R version 4.0.4\"\n",
      "Warning message:\n",
      "\"package 'RSNNS' was built under R version 4.0.5\"\n",
      "Loading required package: Rcpp\n",
      "\n",
      "Warning message:\n",
      "\"package 'Rcpp' was built under R version 4.0.4\"\n",
      "SHA-1 hash of file is bf3c7b8ac910823b729e3ce73bb6ab5e6955ad3d\n",
      "\n"
     ]
    }
   ],
   "source": [
    "options(repr.plot.width=20, repr.plot.height=10)\n",
    "library(nnet)\n",
    "library(devtools)\n",
    "library(RSNNS)\n",
    "library(kernlab)\n",
    "data(spam)\n",
    "source_url('https://gist.githubusercontent.com/Peque/41a9e20d6687f2f3108d/raw/85e14f3a292e126f1454864427e3a189c2fe33f3/nnet_plot_update.r')\n"
   ]
  },
  {
   "cell_type": "code",
   "execution_count": 2,
   "metadata": {},
   "outputs": [],
   "source": [
    "accuracyFromConfusionMatrix <- function(confusion_matrix){\n",
    "    if(dim(confusion_matrix)[1] < 2){ \n",
    "       if(rownames(confusion_matrix) == \"nonspam\"){\n",
    "           confusion_matrix <- rbind(confusion_matrix,c(0,0))\n",
    "           rownames(confusion_matrix)[2] <- \"spam\"\n",
    "       }\n",
    "       if(rownames(confusion_matrix) == \"spam\"){\n",
    "           confusion_matrix <- rbind(c(0,0),confusion_matrix)\n",
    "           rownames(confusion_matrix)[1] <- \"nonspam\"\n",
    "       }\n",
    "    }\n",
    "    return((confusion_matrix[1,1]+confusion_matrix[2,2])/sum(confusion_matrix))\n",
    "}\n",
    "\n",
    "\n",
    "computeResults <- function(Y,Y_hat,explanatory_string=\"\",verbose=TRUE){\n",
    "    \n",
    "    confusion_matrix <- table(Y_hat,Y)\n",
    "    accuracy <- accuracyFromConfusionMatrix(confusion_matrix)\n",
    "    misclassification_rate <- 1 - accuracy\n",
    "    \n",
    "    if(verbose){\n",
    "        print(paste(\"[INFO] - Confusion matrix\",explanatory_string,\":\"))\n",
    "        print(confusion_matrix)\n",
    "        print(paste(\"[INFO] - Accuracy\",explanatory_string,\":\",accuracy))\n",
    "        print(paste(\"[INFO] - Misclassification rate\",explanatory_string,\":\",misclassification_rate))\n",
    "    }\n",
    "    \n",
    "    return(accuracy)\n",
    "}\n",
    "\n"
   ]
  },
  {
   "cell_type": "markdown",
   "metadata": {},
   "source": [
    "## Data analysis"
   ]
  },
  {
   "cell_type": "code",
   "execution_count": 3,
   "metadata": {},
   "outputs": [],
   "source": [
    "spam_idx <- sample(1:nrow(spam))\n",
    "half_split <- floor(nrow(spam)/2)\n",
    "target_variable <- ncol(spam)\n",
    "\n",
    "train_data <- spam[spam_idx[1:half_split],]\n",
    "test_data <- spam[spam_idx[(half_split+1):nrow(spam)],]\n",
    "threshold <- 0.5\n"
   ]
  },
  {
   "cell_type": "code",
   "execution_count": 4,
   "metadata": {},
   "outputs": [
    {
     "data": {
      "image/png": "[encoded data removed]",
      "text/plain": [
       "plot without title"
      ]
     },
     "metadata": {
      "image/png": {
       "height": 600,
       "width": 1200
      }
     },
     "output_type": "display_data"
    }
   ],
   "source": [
    "barplot(table(train_data[,target_variable]))"
   ]
  },
  {
   "cell_type": "code",
   "execution_count": 5,
   "metadata": {},
   "outputs": [
    {
     "data": {
      "image/png": "[encoded data removed]",
      "text/plain": [
       "plot without title"
      ]
     },
     "metadata": {
      "image/png": {
       "height": 600,
       "width": 1200
      }
     },
     "output_type": "display_data"
    }
   ],
   "source": [
    "barplot(table(test_data[,target_variable]))"
   ]
  },
  {
   "cell_type": "markdown",
   "metadata": {},
   "source": [
    "Before starting with the implementation of the models, we will have a deeper look into the data. To be more precise, we will focus on the target variable ``type``."
   ]
  },
  {
   "cell_type": "code",
   "execution_count": 6,
   "metadata": {},
   "outputs": [
    {
     "data": {
      "text/html": [
       "'factor'"
      ],
      "text/latex": [
       "'factor'"
      ],
      "text/markdown": [
       "'factor'"
      ],
      "text/plain": [
       "[1] \"factor\""
      ]
     },
     "metadata": {},
     "output_type": "display_data"
    }
   ],
   "source": [
    "class(train_data[,target_variable])"
   ]
  },
  {
   "cell_type": "markdown",
   "metadata": {},
   "source": [
    "As the target variable is a categorical variable (i.e. a variable taking values from a fixed and limited set of values), neural networks cannot naturally deal with values that are not numeric.\n",
    "\n",
    "We than have two different possibilities to solve this issue:\n",
    "\n",
    "- **integer encoding** : Each category will be coded with an increasing integer number (e.g. 1,2,3,....)\n",
    "    - **Pro's** : Efficient encoding (especially with a large number of variables)\n",
    "    - **Con's** : Natural relation among coded values\n",
    "- **one-hot encoding** : Each category will be coded with an vector having a number of entries equal to the available categories\n",
    "    - **Pro's** : No relation among coded values\n",
    "    - **Con's** : Potentially high number of dummy output variables need to be added to the model"
   ]
  },
  {
   "cell_type": "code",
   "execution_count": 7,
   "metadata": {},
   "outputs": [
    {
     "name": "stdout",
     "output_type": "stream",
     "text": [
      "[1] \"Integer encoding of is_spam:\"\n"
     ]
    },
    {
     "data": {
      "text/html": [
       "<style>\n",
       ".list-inline {list-style: none; margin:0; padding: 0}\n",
       ".list-inline>li {display: inline-block}\n",
       ".list-inline>li:not(:last-child)::after {content: \"\\00b7\"; padding: 0 .5ex}\n",
       "</style>\n",
       "<ol class=list-inline><li>spam</li><li>spam</li><li>spam</li><li>nonspam</li><li>spam</li><li>nonspam</li></ol>\n",
       "\n",
       "<details>\n",
       "\t<summary style=display:list-item;cursor:pointer>\n",
       "\t\t<strong>Levels</strong>:\n",
       "\t</summary>\n",
       "\t<style>\n",
       "\t.list-inline {list-style: none; margin:0; padding: 0}\n",
       "\t.list-inline>li {display: inline-block}\n",
       "\t.list-inline>li:not(:last-child)::after {content: \"\\00b7\"; padding: 0 .5ex}\n",
       "\t</style>\n",
       "\t<ol class=list-inline><li>'nonspam'</li><li>'spam'</li></ol>\n",
       "</details>"
      ],
      "text/latex": [
       "\\begin{enumerate*}\n",
       "\\item spam\n",
       "\\item spam\n",
       "\\item spam\n",
       "\\item nonspam\n",
       "\\item spam\n",
       "\\item nonspam\n",
       "\\end{enumerate*}\n",
       "\n",
       "\\emph{Levels}: \\begin{enumerate*}\n",
       "\\item 'nonspam'\n",
       "\\item 'spam'\n",
       "\\end{enumerate*}\n"
      ],
      "text/markdown": [
       "1. spam\n",
       "2. spam\n",
       "3. spam\n",
       "4. nonspam\n",
       "5. spam\n",
       "6. nonspam\n",
       "\n",
       "\n",
       "\n",
       "**Levels**: 1. 'nonspam'\n",
       "2. 'spam'\n",
       "\n",
       "\n"
      ],
      "text/plain": [
       "[1] spam    spam    spam    nonspam spam    nonspam\n",
       "Levels: nonspam spam"
      ]
     },
     "metadata": {},
     "output_type": "display_data"
    },
    {
     "name": "stdout",
     "output_type": "stream",
     "text": [
      "[1] \"One-hot encoding of is_spam:\"\n"
     ]
    },
    {
     "data": {
      "text/html": [
       "<table class=\"dataframe\">\n",
       "<caption>A matrix: 6 × 2 of type dbl</caption>\n",
       "<thead>\n",
       "\t<tr><th scope=col>nonspam</th><th scope=col>spam</th></tr>\n",
       "</thead>\n",
       "<tbody>\n",
       "\t<tr><td>0</td><td>1</td></tr>\n",
       "\t<tr><td>0</td><td>1</td></tr>\n",
       "\t<tr><td>0</td><td>1</td></tr>\n",
       "\t<tr><td>1</td><td>0</td></tr>\n",
       "\t<tr><td>0</td><td>1</td></tr>\n",
       "\t<tr><td>1</td><td>0</td></tr>\n",
       "</tbody>\n",
       "</table>\n"
      ],
      "text/latex": [
       "A matrix: 6 × 2 of type dbl\n",
       "\\begin{tabular}{ll}\n",
       " nonspam & spam\\\\\n",
       "\\hline\n",
       "\t 0 & 1\\\\\n",
       "\t 0 & 1\\\\\n",
       "\t 0 & 1\\\\\n",
       "\t 1 & 0\\\\\n",
       "\t 0 & 1\\\\\n",
       "\t 1 & 0\\\\\n",
       "\\end{tabular}\n"
      ],
      "text/markdown": [
       "\n",
       "A matrix: 6 × 2 of type dbl\n",
       "\n",
       "| nonspam | spam |\n",
       "|---|---|\n",
       "| 0 | 1 |\n",
       "| 0 | 1 |\n",
       "| 0 | 1 |\n",
       "| 1 | 0 |\n",
       "| 0 | 1 |\n",
       "| 1 | 0 |\n",
       "\n"
      ],
      "text/plain": [
       "     nonspam spam\n",
       "[1,] 0       1   \n",
       "[2,] 0       1   \n",
       "[3,] 0       1   \n",
       "[4,] 1       0   \n",
       "[5,] 0       1   \n",
       "[6,] 1       0   "
      ]
     },
     "metadata": {},
     "output_type": "display_data"
    }
   ],
   "source": [
    "print(\"Integer encoding of is_spam:\")\n",
    "head(train_data[,target_variable])\n",
    "print(\"One-hot encoding of is_spam:\")\n",
    "head(class.ind(as.factor(train_data[,target_variable])))"
   ]
  },
  {
   "cell_type": "markdown",
   "metadata": {},
   "source": [
    "### MLP - Single output network"
   ]
  },
  {
   "cell_type": "markdown",
   "metadata": {},
   "source": [
    "We will start by applying a multi layer perceptron to our problem.\n",
    "The input layer will be constituted by 57 neurons, one for each input variable in the Spambase dataset.\n",
    "The output layer will contain a single neuron, outputting the probability for the given input example, to be classified as spam.\n",
    "The hidden layer will be constituted by a given number (``hidden_neurons <- 5``) of hidden units.\n",
    "The objective of the **learning rule** here, is to tune the weights of the network in order to minimize the mean squared difference between the output of the network $\\hat{y}$ and the true values $y$."
   ]
  },
  {
   "cell_type": "code",
   "execution_count": 8,
   "metadata": {},
   "outputs": [
    {
     "name": "stdout",
     "output_type": "stream",
     "text": [
      "# weights:  296\n",
      "initial  value 1575.372467 \n",
      "iter  10 value 973.161954\n",
      "iter  20 value 775.435920\n",
      "iter  30 value 510.992135\n",
      "iter  40 value 407.348486\n",
      "iter  50 value 356.178554\n",
      "iter  60 value 328.882332\n",
      "iter  70 value 319.786303\n",
      "iter  80 value 299.700093\n",
      "iter  90 value 274.506521\n",
      "iter 100 value 266.397956\n",
      "iter 110 value 255.364849\n",
      "iter 120 value 242.387936\n",
      "iter 130 value 230.672777\n",
      "iter 140 value 223.304080\n",
      "iter 150 value 213.680642\n",
      "iter 160 value 203.975558\n",
      "iter 170 value 195.325085\n",
      "iter 180 value 187.578737\n",
      "iter 190 value 185.536550\n",
      "iter 200 value 183.090647\n",
      "iter 210 value 182.930950\n",
      "final  value 182.930706 \n",
      "converged\n"
     ]
    },
    {
     "data": {
      "text/plain": [
       "a 57-5-1 network with 296 weights\n",
       "inputs: make address all num3d our over remove internet order mail receive will people report addresses free business email you credit your font num000 money hp hpl george num650 lab labs telnet num857 data num415 num85 technology num1999 parts pm direct cs meeting original project re edu table conference charSemicolon charRoundbracket charSquarebracket charExclamation charDollar charHash capitalAve capitalLong capitalTotal \n",
       "output(s): type \n",
       "options were - entropy fitting "
      ]
     },
     "metadata": {},
     "output_type": "display_data"
    },
    {
     "data": {
      "text/html": [
       "<table class=\"dataframe\">\n",
       "<caption>A matrix: 6 × 1 of type dbl</caption>\n",
       "<tbody>\n",
       "\t<tr><th scope=row>1438</th><td>9.601380e-01</td></tr>\n",
       "\t<tr><th scope=row>3559</th><td>9.601380e-01</td></tr>\n",
       "\t<tr><th scope=row>255</th><td>9.601380e-01</td></tr>\n",
       "\t<tr><th scope=row>4294</th><td>9.601380e-01</td></tr>\n",
       "\t<tr><th scope=row>4352</th><td>1.410642e-05</td></tr>\n",
       "\t<tr><th scope=row>2736</th><td>1.410642e-05</td></tr>\n",
       "</tbody>\n",
       "</table>\n"
      ],
      "text/latex": [
       "A matrix: 6 × 1 of type dbl\n",
       "\\begin{tabular}{r|l}\n",
       "\t1438 & 9.601380e-01\\\\\n",
       "\t3559 & 9.601380e-01\\\\\n",
       "\t255 & 9.601380e-01\\\\\n",
       "\t4294 & 9.601380e-01\\\\\n",
       "\t4352 & 1.410642e-05\\\\\n",
       "\t2736 & 1.410642e-05\\\\\n",
       "\\end{tabular}\n"
      ],
      "text/markdown": [
       "\n",
       "A matrix: 6 × 1 of type dbl\n",
       "\n",
       "| 1438 | 9.601380e-01 |\n",
       "| 3559 | 9.601380e-01 |\n",
       "| 255 | 9.601380e-01 |\n",
       "| 4294 | 9.601380e-01 |\n",
       "| 4352 | 1.410642e-05 |\n",
       "| 2736 | 1.410642e-05 |\n",
       "\n"
      ],
      "text/plain": [
       "     [,1]        \n",
       "1438 9.601380e-01\n",
       "3559 9.601380e-01\n",
       "255  9.601380e-01\n",
       "4294 9.601380e-01\n",
       "4352 1.410642e-05\n",
       "2736 1.410642e-05"
      ]
     },
     "metadata": {},
     "output_type": "display_data"
    }
   ],
   "source": [
    "hidden_nodes <- 5\n",
    "\n",
    "model_single_out <- nnet(type ~ ., data=train_data,size=hidden_nodes,skip=FALSE,trace=T, maxit=3000,rang=0.2)\n",
    "model_single_out\n",
    "\n",
    "Y_pred<-predict(model_single_out,test_data[,-target_variable])\n",
    "Y_hat_single_out <- ifelse(Y_pred > threshold,\"spam\",\"nonspam\") \n",
    "\n",
    "head(Y_pred)"
   ]
  },
  {
   "cell_type": "markdown",
   "metadata": {},
   "source": [
    "We will then use a custom function (cf. https://beckmw.wordpress.com/2013/03/04/visualizing-neural-networks-from-the-nnet-package/) to visualize the fitted network"
   ]
  },
  {
   "cell_type": "code",
   "execution_count": 9,
   "metadata": {},
   "outputs": [
    {
     "name": "stderr",
     "output_type": "stream",
     "text": [
      "Loading required package: scales\n",
      "\n",
      "Warning message:\n",
      "\"package 'scales' was built under R version 4.0.4\"\n",
      "\n",
      "Attaching package: 'scales'\n",
      "\n",
      "\n",
      "The following object is masked from 'package:kernlab':\n",
      "\n",
      "    alpha\n",
      "\n",
      "\n",
      "Loading required package: reshape\n",
      "\n",
      "Warning message:\n",
      "\"package 'reshape' was built under R version 4.0.4\"\n"
     ]
    },
    {
     "data": {
      "image/png": "[encoded data removed]",
      "text/plain": [
       "plot without title"
      ]
     },
     "metadata": {
      "image/png": {
       "height": 600,
       "width": 1200
      }
     },
     "output_type": "display_data"
    }
   ],
   "source": [
    "plot.nnet(model_single_out, alpha.val = 0.5, circle.col = list('lightgray', 'white'), bord.col = 'black', cex=0.5)"
   ]
  },
  {
   "cell_type": "markdown",
   "metadata": {},
   "source": [
    "### MLP - One hot encoding network"
   ]
  },
  {
   "cell_type": "code",
   "execution_count": 10,
   "metadata": {},
   "outputs": [
    {
     "name": "stdout",
     "output_type": "stream",
     "text": [
      "# weights:  302\n",
      "initial  value 1240.810200 \n",
      "iter  10 value 1041.217465\n",
      "iter  20 value 828.374967\n",
      "iter  30 value 530.523711\n",
      "iter  40 value 239.143733\n",
      "iter  50 value 190.450472\n",
      "iter  60 value 159.445350\n",
      "iter  70 value 136.650140\n",
      "iter  80 value 120.763979\n",
      "iter  90 value 106.444572\n",
      "iter 100 value 97.193285\n",
      "iter 110 value 93.956800\n",
      "iter 120 value 91.518470\n",
      "iter 130 value 89.464701\n",
      "iter 140 value 88.047370\n",
      "iter 150 value 87.449329\n",
      "iter 160 value 87.022034\n",
      "iter 170 value 86.815831\n",
      "iter 180 value 86.586706\n",
      "iter 190 value 86.384460\n",
      "iter 200 value 86.275981\n",
      "iter 210 value 86.194093\n",
      "iter 220 value 86.141582\n",
      "iter 230 value 86.074705\n",
      "iter 240 value 86.013890\n",
      "iter 250 value 85.928452\n",
      "iter 260 value 85.830047\n",
      "iter 270 value 85.791228\n",
      "iter 280 value 85.761931\n",
      "iter 290 value 85.732268\n",
      "iter 300 value 85.710237\n",
      "iter 310 value 85.700462\n",
      "iter 320 value 85.689824\n",
      "iter 330 value 85.666405\n",
      "iter 340 value 85.641941\n",
      "iter 350 value 85.611898\n",
      "iter 360 value 85.571170\n",
      "iter 370 value 85.530517\n",
      "iter 380 value 85.506937\n",
      "iter 390 value 85.488767\n",
      "iter 400 value 85.467481\n",
      "iter 410 value 85.438104\n",
      "iter 420 value 85.424918\n",
      "iter 430 value 85.416285\n",
      "iter 440 value 85.401342\n",
      "iter 450 value 85.386930\n",
      "iter 460 value 85.372672\n",
      "iter 470 value 85.355782\n",
      "iter 480 value 85.325104\n",
      "iter 490 value 85.313846\n",
      "iter 500 value 85.290858\n",
      "iter 510 value 85.268233\n",
      "iter 520 value 85.239210\n",
      "iter 530 value 85.213620\n",
      "iter 540 value 85.188116\n",
      "iter 550 value 85.179553\n",
      "iter 560 value 85.167862\n",
      "iter 570 value 85.148876\n",
      "iter 580 value 85.138975\n",
      "iter 590 value 85.127021\n",
      "iter 600 value 85.115550\n",
      "iter 610 value 85.104655\n",
      "iter 620 value 85.096379\n",
      "final  value 85.095945 \n",
      "converged\n"
     ]
    },
    {
     "data": {
      "text/plain": [
       "a 57-5-2 network with 302 weights\n",
       "options were -"
      ]
     },
     "metadata": {},
     "output_type": "display_data"
    },
    {
     "data": {
      "text/html": [
       "<table class=\"dataframe\">\n",
       "<caption>A matrix: 6 × 2 of type dbl</caption>\n",
       "<thead>\n",
       "\t<tr><th></th><th scope=col>nonspam</th><th scope=col>spam</th></tr>\n",
       "</thead>\n",
       "<tbody>\n",
       "\t<tr><th scope=row>1438</th><td>0</td><td>1</td></tr>\n",
       "\t<tr><th scope=row>3559</th><td>1</td><td>0</td></tr>\n",
       "\t<tr><th scope=row>255</th><td>0</td><td>1</td></tr>\n",
       "\t<tr><th scope=row>4294</th><td>1</td><td>0</td></tr>\n",
       "\t<tr><th scope=row>4352</th><td>1</td><td>0</td></tr>\n",
       "\t<tr><th scope=row>2736</th><td>1</td><td>0</td></tr>\n",
       "</tbody>\n",
       "</table>\n"
      ],
      "text/latex": [
       "A matrix: 6 × 2 of type dbl\n",
       "\\begin{tabular}{r|ll}\n",
       "  & nonspam & spam\\\\\n",
       "\\hline\n",
       "\t1438 & 0 & 1\\\\\n",
       "\t3559 & 1 & 0\\\\\n",
       "\t255 & 0 & 1\\\\\n",
       "\t4294 & 1 & 0\\\\\n",
       "\t4352 & 1 & 0\\\\\n",
       "\t2736 & 1 & 0\\\\\n",
       "\\end{tabular}\n"
      ],
      "text/markdown": [
       "\n",
       "A matrix: 6 × 2 of type dbl\n",
       "\n",
       "| <!--/--> | nonspam | spam |\n",
       "|---|---|---|\n",
       "| 1438 | 0 | 1 |\n",
       "| 3559 | 1 | 0 |\n",
       "| 255 | 0 | 1 |\n",
       "| 4294 | 1 | 0 |\n",
       "| 4352 | 1 | 0 |\n",
       "| 2736 | 1 | 0 |\n",
       "\n"
      ],
      "text/plain": [
       "     nonspam spam\n",
       "1438 0       1   \n",
       "3559 1       0   \n",
       "255  0       1   \n",
       "4294 1       0   \n",
       "4352 1       0   \n",
       "2736 1       0   "
      ]
     },
     "metadata": {},
     "output_type": "display_data"
    }
   ],
   "source": [
    "model_one_hot<-nnet(x=train_data[,-target_variable],\n",
    "               y=class.ind(as.factor(train_data[,target_variable])),\n",
    "               size=hidden_nodes,\n",
    "               skip=FALSE,\n",
    "               trace=T, \n",
    "               maxit=1000,\n",
    "               rang=0.5)\n",
    "\n",
    "model_one_hot\n",
    "\n",
    "Y_pred<-predict(model_one_hot,test_data[,-target_variable])\n",
    "Y_hat_one_hot <- ifelse(Y_pred[,2] > threshold,\"spam\",\"nonspam\")\n",
    "\n",
    "head(Y_pred)"
   ]
  },
  {
   "cell_type": "code",
   "execution_count": 11,
   "metadata": {},
   "outputs": [
    {
     "data": {
      "image/png": "[encoded data removed]",
      "text/plain": [
       "plot without title"
      ]
     },
     "metadata": {
      "image/png": {
       "height": 600,
       "width": 1200
      }
     },
     "output_type": "display_data"
    }
   ],
   "source": [
    "plot.nnet(model_one_hot, alpha.val = 0.5, circle.col = list('lightgray', 'white'), bord.col = 'black', cex=0.5)"
   ]
  },
  {
   "cell_type": "code",
   "execution_count": 12,
   "metadata": {},
   "outputs": [
    {
     "name": "stdout",
     "output_type": "stream",
     "text": [
      "[1] \"[INFO] - Confusion matrix Single out :\"\n",
      "         Y\n",
      "Y_hat     nonspam spam\n",
      "  nonspam    1291   55\n",
      "  spam        100  855\n",
      "[1] \"[INFO] - Accuracy Single out : 0.932637983485441\"\n",
      "[1] \"[INFO] - Misclassification rate Single out : 0.0673620165145589\"\n"
     ]
    },
    {
     "data": {
      "text/html": [
       "0.932637983485441"
      ],
      "text/latex": [
       "0.932637983485441"
      ],
      "text/markdown": [
       "0.932637983485441"
      ],
      "text/plain": [
       "[1] 0.932638"
      ]
     },
     "metadata": {},
     "output_type": "display_data"
    },
    {
     "name": "stdout",
     "output_type": "stream",
     "text": [
      "[1] \"[INFO] - Confusion matrix One hot :\"\n",
      "         Y\n",
      "Y_hat     nonspam spam\n",
      "  nonspam    1286   67\n",
      "  spam        105  843\n",
      "[1] \"[INFO] - Accuracy One hot : 0.925249891351586\"\n",
      "[1] \"[INFO] - Misclassification rate One hot : 0.0747501086484137\"\n"
     ]
    },
    {
     "data": {
      "text/html": [
       "0.925249891351586"
      ],
      "text/latex": [
       "0.925249891351586"
      ],
      "text/markdown": [
       "0.925249891351586"
      ],
      "text/plain": [
       "[1] 0.9252499"
      ]
     },
     "metadata": {},
     "output_type": "display_data"
    }
   ],
   "source": [
    "Y <- test_data[,target_variable]\n",
    "\n",
    "computeResults(Y,Y_hat_single_out,\"Single out\")\n",
    "computeResults(Y,Y_hat_one_hot,\"One hot\")\n"
   ]
  },
  {
   "cell_type": "markdown",
   "metadata": {},
   "source": [
    "### Questions\n",
    "- Does the type of encoding affect the quality of the classifiers?\n",
    "- What does the $B_i$ nodes represent?\n",
    "- Does the number of hidden neurons affect the quality of the prediction?\n",
    "- If so, how?"
   ]
  },
  {
   "cell_type": "markdown",
   "metadata": {},
   "source": [
    "## k-fold crossvalidation\n",
    "\n",
    "As the convergence of neural networks is highly influenced by the initial choice of weights, togheter with the choice of the optimization algorithm, it will be interesting to how the choice of these parameters will influence the performances of the model.  \n",
    "\n",
    "In order to do so, we ask you to implement $k$-fold cross validation and to compare:\n",
    "\n",
    "- In-sample error\n",
    "- Out-of-sample error\n",
    "- Crossvalidation error\n",
    "\n",
    "for a varying number of hidden nodes $\\in \\{3,5,10,15,20\\}$."
   ]
  },
  {
   "cell_type": "code",
   "execution_count": 13,
   "metadata": {},
   "outputs": [],
   "source": [
    "crossValidationInOutSample <- function(hidden_nodes=5,k=10,threshold=0.5){\n",
    "    data(spam)\n",
    "    target_variable <- ncol(spam)\n",
    "    accuracy_vec <- c()\n",
    "    \n",
    "    # 1. Shuffle the dataset randomly.\n",
    "    spam_idx <- sample(1:nrow(spam))\n",
    "    half_split <- floor(nrow(spam)/2)\n",
    "    target_variable <- ncol(spam)\n",
    "    \n",
    "    # 2. Split the dataset into k groups\n",
    "    max <- ceiling(nrow(spam)/k)\n",
    "    splits <- split(spam_idx, ceiling(seq_along(spam_idx)/max))\n",
    "\n",
    "    # 3. For each unique group:\n",
    "    for (i in 1:k){\n",
    "        #3.1 Take the group as a hold out or test data set\n",
    "        train_data <- spam[-splits[[i]],]\n",
    "\n",
    "        #3.2 Take the remaining groups as a training data set\n",
    "        test_data <- spam[splits[[i]],]\n",
    "        print(paste(\"[INFO] - Training set size:\",dim(train_data)[1],\"- Testing set size\",dim(test_data)[1]))\n",
    "\n",
    "        #3.3 Fit a model on the training set and evaluate it on the test set\n",
    "        model_single_out <- nnet(type ~ ., data=train_data,size=hidden_nodes,\n",
    "                                 skip=FALSE, maxit=3000,rang=0.2,MaxNWts=10000,trace=FALSE)\n",
    "\n",
    "        Y_pred<-predict(model_single_out,test_data[,-target_variable])\n",
    "\n",
    "        Y <- test_data[,target_variable]\n",
    "        Y_hat <- ifelse(Y_pred > threshold,\"spam\",\"nonspam\")\n",
    "        confusion_matrix <- table(Y_hat,Y)\n",
    "        \n",
    "        #3.4 Retain the evaluation score and discard the model\n",
    "        accuracy_vec[i] = (confusion_matrix[1,1]+confusion_matrix[2,2])/sum(confusion_matrix)\n",
    "        misclassification_rate = 1 - accuracy_vec[i]\n",
    "        print(paste(\"[INFO] - Misclassification rate -\",i,\"fold:\",misclassification_rate))\n",
    "    }\n",
    "\n",
    "    # 4.1 Summarize the skill of the model using the sample of model evaluation scores\n",
    "    print(paste(\"[INFO] - CV - Mean misclassification rate:\",1-mean(accuracy_vec)))\n",
    "    \n",
    "    # 4.2 Split training-test for in/out of sample predictions\n",
    "    train_data <- spam[spam_idx[1:half_split],]\n",
    "    test_data <- spam[spam_idx[(half_split+1):nrow(spam)],]\n",
    "    Y <- test_data[,target_variable]\n",
    "\n",
    "    model_single_out <- nnet(type ~ ., data=train_data,size=hidden_nodes,trace=F,skip=FALSE,maxit=300,rang=0.2,MaxNWts=10000)\n",
    "    model_single_out\n",
    "\n",
    "    # 4.2 - In sample evaluation error computation\n",
    "    Y_pred<-predict(model_single_out,train_data[,-target_variable])\n",
    "    Y_hat_single_out_in_sample <- ifelse(Y_pred > threshold,\"spam\",\"nonspam\")\n",
    "\n",
    "    # 4.2 - Out of sample evaluation error computation\n",
    "    Y_pred<-predict(model_single_out,test_data[,-target_variable])\n",
    "    Y_hat_single_out_out_sample <- ifelse(Y_pred > threshold,\"spam\",\"nonspam\")\n",
    "\n",
    "    accuracy_in_sample <- computeResults(train_data[,target_variable],Y_hat_single_out_in_sample,\"In sample\")\n",
    "    accuracy_out_sample <- computeResults(Y,Y_hat_single_out_out_sample,\"Out sample\")\n",
    "    \n",
    "    return(list(in_sample=accuracy_in_sample,out_sample=accuracy_out_sample,cv=mean(accuracy_vec)))\n",
    "}"
   ]
  },
  {
   "cell_type": "code",
   "execution_count": 14,
   "metadata": {},
   "outputs": [
    {
     "name": "stdout",
     "output_type": "stream",
     "text": [
      "[1] \"[INFO] - Testing h= 3\"\n",
      "[1] \"[INFO] - Training set size: 2300 - Testing set size 2301\"\n",
      "[1] \"[INFO] - Misclassification rate - 1 fold: 0.0682312038244242\"\n",
      "[1] \"[INFO] - Training set size: 2301 - Testing set size 2300\"\n",
      "[1] \"[INFO] - Misclassification rate - 2 fold: 0.0630434782608695\"\n",
      "[1] \"[INFO] - CV - Mean misclassification rate: 0.0656373410426468\"\n",
      "[1] \"[INFO] - Confusion matrix In sample :\"\n",
      "         Y\n",
      "Y_hat     nonspam spam\n",
      "  nonspam    1302   59\n",
      "  spam         87  853\n",
      "[1] \"[INFO] - Accuracy In sample : 0.936549326379835\"\n",
      "[1] \"[INFO] - Misclassification rate In sample : 0.0634506736201651\"\n",
      "[1] \"[INFO] - Confusion matrix Out sample :\"\n",
      "         Y\n",
      "Y_hat     nonspam spam\n",
      "  nonspam    1287   83\n",
      "  spam        112  818\n",
      "[1] \"[INFO] - Accuracy Out sample : 0.915217391304348\"\n",
      "[1] \"[INFO] - Misclassification rate Out sample : 0.0847826086956521\"\n",
      "[1] \"[INFO] - Testing h= 5\"\n",
      "[1] \"[INFO] - Training set size: 2300 - Testing set size 2301\"\n",
      "[1] \"[INFO] - Misclassification rate - 1 fold: 0.066058235549761\"\n",
      "[1] \"[INFO] - Training set size: 2301 - Testing set size 2300\"\n",
      "[1] \"[INFO] - Misclassification rate - 2 fold: 0.0669565217391305\"\n",
      "[1] \"[INFO] - CV - Mean misclassification rate: 0.0665073786444457\"\n",
      "[1] \"[INFO] - Confusion matrix In sample :\"\n",
      "         Y\n",
      "Y_hat     nonspam spam\n",
      "  nonspam    1389   28\n",
      "  spam         13  871\n",
      "[1] \"[INFO] - Accuracy In sample : 0.982181660147762\"\n",
      "[1] \"[INFO] - Misclassification rate In sample : 0.0178183398522381\"\n",
      "[1] \"[INFO] - Confusion matrix Out sample :\"\n",
      "         Y\n",
      "Y_hat     nonspam spam\n",
      "  nonspam    1315  101\n",
      "  spam         71  813\n",
      "[1] \"[INFO] - Accuracy Out sample : 0.925217391304348\"\n",
      "[1] \"[INFO] - Misclassification rate Out sample : 0.0747826086956521\"\n",
      "[1] \"[INFO] - Testing h= 10\"\n",
      "[1] \"[INFO] - Training set size: 2300 - Testing set size 2301\"\n",
      "[1] \"[INFO] - Misclassification rate - 1 fold: 0.0860495436766623\"\n",
      "[1] \"[INFO] - Training set size: 2301 - Testing set size 2300\"\n",
      "[1] \"[INFO] - Misclassification rate - 2 fold: 0.0734782608695652\"\n",
      "[1] \"[INFO] - CV - Mean misclassification rate: 0.0797639022731138\"\n",
      "[1] \"[INFO] - Confusion matrix In sample :\"\n",
      "         Y\n",
      "Y_hat     nonspam spam\n",
      "  nonspam    1343   20\n",
      "  spam         21  917\n",
      "[1] \"[INFO] - Accuracy In sample : 0.982181660147762\"\n",
      "[1] \"[INFO] - Misclassification rate In sample : 0.0178183398522381\"\n",
      "[1] \"[INFO] - Confusion matrix Out sample :\"\n",
      "         Y\n",
      "Y_hat     nonspam spam\n",
      "  nonspam    1338   82\n",
      "  spam         86  794\n",
      "[1] \"[INFO] - Accuracy Out sample : 0.92695652173913\"\n",
      "[1] \"[INFO] - Misclassification rate Out sample : 0.0730434782608695\"\n",
      "[1] \"[INFO] - Testing h= 15\"\n",
      "[1] \"[INFO] - Training set size: 2300 - Testing set size 2301\"\n",
      "[1] \"[INFO] - Misclassification rate - 1 fold: 0.0790960451977402\"\n",
      "[1] \"[INFO] - Training set size: 2301 - Testing set size 2300\"\n",
      "[1] \"[INFO] - Misclassification rate - 2 fold: 0.0878260869565217\"\n",
      "[1] \"[INFO] - CV - Mean misclassification rate: 0.0834610660771309\"\n",
      "[1] \"[INFO] - Confusion matrix In sample :\"\n",
      "         Y\n",
      "Y_hat     nonspam spam\n",
      "  nonspam    1359    9\n",
      "  spam         27  906\n",
      "[1] \"[INFO] - Accuracy In sample : 0.984354628422425\"\n",
      "[1] \"[INFO] - Misclassification rate In sample : 0.015645371577575\"\n",
      "[1] \"[INFO] - Confusion matrix Out sample :\"\n",
      "         Y\n",
      "Y_hat     nonspam spam\n",
      "  nonspam    1318   76\n",
      "  spam         84  822\n",
      "[1] \"[INFO] - Accuracy Out sample : 0.930434782608696\"\n",
      "[1] \"[INFO] - Misclassification rate Out sample : 0.0695652173913044\"\n",
      "[1] \"[INFO] - Testing h= 30\"\n",
      "[1] \"[INFO] - Training set size: 2300 - Testing set size 2301\"\n",
      "[1] \"[INFO] - Misclassification rate - 1 fold: 0.080399826162538\"\n",
      "[1] \"[INFO] - Training set size: 2301 - Testing set size 2300\"\n",
      "[1] \"[INFO] - Misclassification rate - 2 fold: 0.0821739130434782\"\n",
      "[1] \"[INFO] - CV - Mean misclassification rate: 0.0812868696030081\"\n",
      "[1] \"[INFO] - Confusion matrix In sample :\"\n",
      "         Y\n",
      "Y_hat     nonspam spam\n",
      "  nonspam    1398    1\n",
      "  spam          5  897\n",
      "[1] \"[INFO] - Accuracy In sample : 0.997392438070404\"\n",
      "[1] \"[INFO] - Misclassification rate In sample : 0.00260756192959588\"\n",
      "[1] \"[INFO] - Confusion matrix Out sample :\"\n",
      "         Y\n",
      "Y_hat     nonspam spam\n",
      "  nonspam    1289  106\n",
      "  spam         96  809\n",
      "[1] \"[INFO] - Accuracy Out sample : 0.912173913043478\"\n",
      "[1] \"[INFO] - Misclassification rate Out sample : 0.0878260869565217\"\n",
      "[1] \"[INFO] - Testing h= 50\"\n",
      "[1] \"[INFO] - Training set size: 2300 - Testing set size 2301\"\n",
      "[1] \"[INFO] - Misclassification rate - 1 fold: 0.0812690134724033\"\n",
      "[1] \"[INFO] - Training set size: 2301 - Testing set size 2300\"\n",
      "[1] \"[INFO] - Misclassification rate - 2 fold: 0.0791304347826087\"\n",
      "[1] \"[INFO] - CV - Mean misclassification rate: 0.0801997241275061\"\n",
      "[1] \"[INFO] - Confusion matrix In sample :\"\n",
      "         Y\n",
      "Y_hat     nonspam spam\n",
      "  nonspam    1402    7\n",
      "  spam         16  876\n",
      "[1] \"[INFO] - Accuracy In sample : 0.990004345936549\"\n",
      "[1] \"[INFO] - Misclassification rate In sample : 0.00999565406345071\"\n",
      "[1] \"[INFO] - Confusion matrix Out sample :\"\n",
      "         Y\n",
      "Y_hat     nonspam spam\n",
      "  nonspam    1289   84\n",
      "  spam         81  846\n",
      "[1] \"[INFO] - Accuracy Out sample : 0.928260869565217\"\n",
      "[1] \"[INFO] - Misclassification rate Out sample : 0.0717391304347826\"\n",
      "[1] \"[INFO] - Testing h= 100\"\n",
      "[1] \"[INFO] - Training set size: 2300 - Testing set size 2301\"\n",
      "[1] \"[INFO] - Misclassification rate - 1 fold: 0.0830073880921338\"\n",
      "[1] \"[INFO] - Training set size: 2301 - Testing set size 2300\"\n",
      "[1] \"[INFO] - Misclassification rate - 2 fold: 0.0843478260869566\"\n",
      "[1] \"[INFO] - CV - Mean misclassification rate: 0.0836776070895452\"\n",
      "[1] \"[INFO] - Confusion matrix In sample :\"\n",
      "         Y\n",
      "Y_hat     nonspam spam\n",
      "  nonspam    1410    0\n",
      "  spam          0  891\n",
      "[1] \"[INFO] - Accuracy In sample : 1\"\n",
      "[1] \"[INFO] - Misclassification rate In sample : 0\"\n",
      "[1] \"[INFO] - Confusion matrix Out sample :\"\n",
      "         Y\n",
      "Y_hat     nonspam spam\n",
      "  nonspam    1284   95\n",
      "  spam         94  827\n",
      "[1] \"[INFO] - Accuracy Out sample : 0.917826086956522\"\n",
      "[1] \"[INFO] - Misclassification rate Out sample : 0.0821739130434782\"\n"
     ]
    }
   ],
   "source": [
    "k <- 2\n",
    "hidden_nodes_vec <- c(3,5,10,15,30,50,100)\n",
    "\n",
    "error_in_sample_vec <- numeric()\n",
    "error_out_sample_vec <- numeric()\n",
    "error_cv_vec <- numeric()\n",
    "\n",
    "for(hidden_nodes in hidden_nodes_vec){\n",
    "    print(paste(\"[INFO] - Testing h=\",hidden_nodes))\n",
    "    results <- crossValidationInOutSample(hidden_nodes=hidden_nodes,k=k)\n",
    "    error_in_sample_vec <- c(error_in_sample_vec,results$in_sample)\n",
    "    error_out_sample_vec <- c(error_out_sample_vec,results$out_sample)\n",
    "    error_cv_vec <- c(error_cv_vec,results$cv)\n",
    "}"
   ]
  },
  {
   "cell_type": "code",
   "execution_count": 17,
   "metadata": {},
   "outputs": [],
   "source": [
    "save(error_in_sample_vec,error_out_sample_vec,error_cv_vec,file=\"Ex1_Results_CV.Rdata\")"
   ]
  },
  {
   "cell_type": "code",
   "execution_count": 18,
   "metadata": {},
   "outputs": [
    {
     "data": {
      "image/png": "[encoded data removed]",
      "text/plain": [
       "Plot with title \"Classification accuracy as a function of number of hidden neurons\""
      ]
     },
     "metadata": {
      "image/png": {
       "height": 600,
       "width": 1200
      }
     },
     "output_type": "display_data"
    }
   ],
   "source": [
    "load(\"Ex1_Results_CV.Rdata\")\n",
    "plot(hidden_nodes_vec,error_in_sample_vec,type=\"n\",main=\"Classification accuracy as a function of number of hidden neurons\",xlab=\"Hidden neurons\",ylab=\"Accuracy\",ylim=c(0.85,1))\n",
    "lines(hidden_nodes_vec,error_in_sample_vec)\n",
    "lines(hidden_nodes_vec,error_out_sample_vec,col=\"blue\")\n",
    "lines(hidden_nodes_vec,error_cv_vec,col=\"red\")\n",
    "legend(\"bottomright\",legend=c(\"In sample\",\"Out of sample\",\"CV\"),col=c(\"black\",\"blue\",\"red\"),lty=c(1,1,1))"
   ]
  },
  {
   "cell_type": "markdown",
   "metadata": {},
   "source": [
    "## Bagging Neural Networks\n",
    "\n",
    "Given a standard training set $D$ of size $n$, bagging generates $m$ new training sets $D_i$, each of size $n′$, by sampling from $D$ uniformly and with replacement. By sampling with replacement, some observations may be repeated in each $D_{i}$\n",
    "Bagging leads to \"improvements for unstable procedures\" (Breiman, 1996), which include, for example, artificial neural networks, classification and regression trees. On the other hand, it can mildly degrade the performance of stable methods such as K-nearest neighbors (Breiman, 1996).\n",
    "\n",
    "We would like to study the impact of bagging on the problem at hand.\n",
    "In order to do so you have to:\n",
    "\n",
    "- Develop a basic (50/50 split) neural network model\n",
    "- Develop a bagged version of the same model\n",
    "- Compare (through tables and/or plots) the perfomances of the models"
   ]
  },
  {
   "cell_type": "code",
   "execution_count": 19,
   "metadata": {},
   "outputs": [],
   "source": [
    "BaggingNN <- function(hidden_nodes=5,n_bagging_resamples=10,threshold=0.5){\n",
    "    data(spam)\n",
    "    half_split <- floor(nrow(spam)/2)\n",
    "    target_variable <- ncol(spam)\n",
    "    accuracy_vec <- c()\n",
    "    \n",
    "    # 1. Shuffle the dataset randomly.\n",
    "    set.seed(1717)\n",
    "    spam_idx <- sample(1:nrow(spam))\n",
    "    \n",
    "    # 2. Split shuffled dataset into training and test set\n",
    "    train_data <- spam[spam_idx[1:half_split],]\n",
    "    test_data <- spam[spam_idx[(half_split+1):nrow(spam)],]\n",
    "\n",
    "    n_train <- nrow(train_data)\n",
    "    Y_pred_models<-numeric()\n",
    "    Y_hat_bagged<-array(0,c(length(test_data),1))\n",
    "    Y <- test_data[,target_variable]\n",
    "    accuracy_vec<-array(0,c(1,n_bagging_resamples))\n",
    "\n",
    "    for (i in 1:n_bagging_resamples)\n",
    "    {\n",
    "      # 1. Resample data from the training set\n",
    "      I_bag <- sample(seq(1,n_train),replace=TRUE)\n",
    "      # 2. Fit model\n",
    "      model <- nnet (type ~ .,train_data[I_bag,],skip=FALSE,\n",
    "                       size=hidden_nodes, maxit=50,trace=F,rang=0.2,MaxNWts=10000)\n",
    "      Y_pred <- predict(model,test_data[,-target_variable])\n",
    "      Y_pred_models <- cbind(Y_pred_models,ifelse(Y_pred > threshold,1,0))\n",
    "      accuracy_vec[i] <- computeResults(Y,ifelse(Y_pred > threshold,\"spam\",\"nonspam\"),paste(i,\"th model\"),verbose=F)\n",
    "    }\n",
    "    \n",
    "    Y <- test_data[,target_variable]\n",
    "\n",
    "    # 3. Majority vote of the classifiers to make the prediction\n",
    "    # Computation trick : With classes being 0/1 if there is a majority of 1 classes, \n",
    "    # the sum of all the values should be greater than the number of models/2\n",
    "    Y_pred_bagged <- as.numeric(apply(Y_pred_models,1,sum) > (n_bagging_resamples/2))\n",
    "\n",
    "    #Y_pred_bagged <- apply(Y_pred_models,1,mean)\n",
    "    Y_hat_bagged <- ifelse(Y_pred_bagged,\"spam\",\"nonspam\")\n",
    "    accuracy_bag <- computeResults(Y,Y_hat_bagged,\"bagged model\")\n",
    "    \n",
    "    \n",
    "    model_single_out <- nnet(type ~ ., data=train_data,size=hidden_nodes,trace=F,skip=FALSE,maxit=300,rang=0.2,MaxNWts=10000)\n",
    "    Y_pred_single_out <- predict(model_single_out,test_data[,-target_variable])\n",
    "    Y_hat_single_out <- ifelse(Y_pred_single_out > threshold,\"spam\",\"nonspam\")\n",
    "    accuracy_single_out <- computeResults(Y,Y_hat_single_out,\"single model\")\n",
    "    return(list(accuracy_bagged=accuracy_bag,accuracy_simple=accuracy_single_out,bagging_accuracies=accuracy_vec))\n",
    "}"
   ]
  },
  {
   "cell_type": "code",
   "execution_count": 24,
   "metadata": {},
   "outputs": [
    {
     "name": "stdout",
     "output_type": "stream",
     "text": [
      "[1] \"[INFO] - Confusion matrix bagged model :\"\n",
      "         Y\n",
      "Y_hat     nonspam spam\n",
      "  nonspam    1201  173\n",
      "  spam        196  731\n",
      "[1] \"[INFO] - Accuracy bagged model : 0.839634941329857\"\n",
      "[1] \"[INFO] - Misclassification rate bagged model : 0.160365058670143\"\n",
      "[1] \"[INFO] - Confusion matrix single model :\"\n",
      "         Y\n",
      "Y_hat     nonspam spam\n",
      "  nonspam    1317   66\n",
      "  spam         80  838\n",
      "[1] \"[INFO] - Accuracy single model : 0.936549326379835\"\n",
      "[1] \"[INFO] - Misclassification rate single model : 0.0634506736201651\"\n"
     ]
    }
   ],
   "source": [
    "results <- BaggingNN(hidden_nodes = 5,n_bagging_resamples = 100)"
   ]
  },
  {
   "cell_type": "code",
   "execution_count": 25,
   "metadata": {},
   "outputs": [
    {
     "data": {
      "image/png": "[encoded data removed]",
      "text/plain": [
       "Plot with title \"Accuracy of models across bagging\""
      ]
     },
     "metadata": {
      "image/png": {
       "height": 600,
       "width": 1200
      }
     },
     "output_type": "display_data"
    }
   ],
   "source": [
    "hist(results$bagging_accuracies,main='Accuracy of models across bagging',xlab=\"Accuracy\",xlim=c(0,1))\n",
    "abline(v=results$accuracy_bagged,col=\"red\")\n",
    "abline(v=results$accuracy_simple,col=\"blue\")\n",
    "legend(\"topleft\",legend=c(\"Bagged\",\"Single\"),col=c(\"red\",\"blue\"),lty=c(1,1))"
   ]
  },
  {
   "cell_type": "code",
   "execution_count": 172,
   "metadata": {},
   "outputs": [
    {
     "name": "stdout",
     "output_type": "stream",
     "text": [
      "[1] \"[INFO] - Testing h= 3\"\n",
      "[1] \"[INFO] - Confusion matrix bagged model :\"\n",
      "         Y\n",
      "Y_hat     nonspam spam\n",
      "  nonspam    1261  134\n",
      "  spam        136  770\n",
      "[1] \"[INFO] - Accuracy bagged model : 0.882659713168188\"\n",
      "[1] \"[INFO] - Misclassification rate bagged model : 0.117340286831812\"\n",
      "[1] \"[INFO] - Confusion matrix single model :\"\n",
      "         Y\n",
      "Y_hat     nonspam spam\n",
      "  nonspam    1304   70\n",
      "  spam         93  834\n",
      "[1] \"[INFO] - Accuracy single model : 0.92916123424598\"\n",
      "[1] \"[INFO] - Misclassification rate single model : 0.07083876575402\"\n",
      "[1] \"[INFO] - Testing h= 5\"\n",
      "[1] \"[INFO] - Confusion matrix bagged model :\"\n",
      "         Y\n",
      "Y_hat     nonspam spam\n",
      "  nonspam    1281  245\n",
      "  spam        116  659\n",
      "[1] \"[INFO] - Accuracy bagged model : 0.843111690569318\"\n",
      "[1] \"[INFO] - Misclassification rate bagged model : 0.156888309430682\"\n",
      "[1] \"[INFO] - Confusion matrix single model :\"\n",
      "         Y\n",
      "Y_hat     nonspam spam\n",
      "  nonspam    1351   89\n",
      "  spam         46  815\n",
      "[1] \"[INFO] - Accuracy single model : 0.941329856584094\"\n",
      "[1] \"[INFO] - Misclassification rate single model : 0.0586701434159062\"\n",
      "[1] \"[INFO] - Testing h= 10\"\n",
      "[1] \"[INFO] - Confusion matrix bagged model :\"\n",
      "         Y\n",
      "Y_hat     nonspam spam\n",
      "  nonspam    1224  263\n",
      "  spam        173  641\n",
      "[1] \"[INFO] - Accuracy bagged model : 0.81051716644937\"\n",
      "[1] \"[INFO] - Misclassification rate bagged model : 0.18948283355063\"\n",
      "[1] \"[INFO] - Confusion matrix single model :\"\n",
      "         Y\n",
      "Y_hat     nonspam spam\n",
      "  nonspam    1328   97\n",
      "  spam         69  807\n",
      "[1] \"[INFO] - Accuracy single model : 0.927857453281182\"\n",
      "[1] \"[INFO] - Misclassification rate single model : 0.0721425467188179\"\n",
      "[1] \"[INFO] - Testing h= 15\"\n",
      "[1] \"[INFO] - Confusion matrix bagged model :\"\n",
      "         Y\n",
      "Y_hat     nonspam spam\n",
      "  nonspam    1191  339\n",
      "  spam        206  565\n",
      "[1] \"[INFO] - Accuracy bagged model : 0.763146458061712\"\n",
      "[1] \"[INFO] - Misclassification rate bagged model : 0.236853541938288\"\n",
      "[1] \"[INFO] - Confusion matrix single model :\"\n",
      "         Y\n",
      "Y_hat     nonspam spam\n",
      "  nonspam    1306   88\n",
      "  spam         91  816\n",
      "[1] \"[INFO] - Accuracy single model : 0.922207735767058\"\n",
      "[1] \"[INFO] - Misclassification rate single model : 0.0777922642329422\"\n",
      "[1] \"[INFO] - Testing h= 30\"\n",
      "[1] \"[INFO] - Confusion matrix bagged model :\"\n",
      "         Y\n",
      "Y_hat     nonspam spam\n",
      "  nonspam    1246  320\n",
      "  spam        151  584\n",
      "[1] \"[INFO] - Accuracy bagged model : 0.795306388526728\"\n",
      "[1] \"[INFO] - Misclassification rate bagged model : 0.204693611473272\"\n",
      "[1] \"[INFO] - Confusion matrix single model :\"\n",
      "         Y\n",
      "Y_hat     nonspam spam\n",
      "  nonspam    1307   70\n",
      "  spam         90  834\n",
      "[1] \"[INFO] - Accuracy single model : 0.930465015210778\"\n",
      "[1] \"[INFO] - Misclassification rate single model : 0.069534984789222\"\n",
      "[1] \"[INFO] - Testing h= 50\"\n",
      "[1] \"[INFO] - Confusion matrix bagged model :\"\n",
      "         Y\n",
      "Y_hat     nonspam spam\n",
      "  nonspam    1204  320\n",
      "  spam        193  584\n",
      "[1] \"[INFO] - Accuracy bagged model : 0.777053455019557\"\n",
      "[1] \"[INFO] - Misclassification rate bagged model : 0.222946544980443\"\n",
      "[1] \"[INFO] - Confusion matrix single model :\"\n",
      "         Y\n",
      "Y_hat     nonspam spam\n",
      "  nonspam    1302   87\n",
      "  spam         95  817\n",
      "[1] \"[INFO] - Accuracy single model : 0.92090395480226\"\n",
      "[1] \"[INFO] - Misclassification rate single model : 0.0790960451977402\"\n",
      "[1] \"[INFO] - Testing h= 100\"\n",
      "[1] \"[INFO] - Confusion matrix bagged model :\"\n",
      "         Y\n",
      "Y_hat     nonspam spam\n",
      "  nonspam    1162  332\n",
      "  spam        235  572\n",
      "[1] \"[INFO] - Accuracy bagged model : 0.753585397653194\"\n",
      "[1] \"[INFO] - Misclassification rate bagged model : 0.246414602346806\"\n",
      "[1] \"[INFO] - Confusion matrix single model :\"\n",
      "         Y\n",
      "Y_hat     nonspam spam\n",
      "  nonspam    1321   62\n",
      "  spam         76  842\n",
      "[1] \"[INFO] - Accuracy single model : 0.940026075619296\"\n",
      "[1] \"[INFO] - Misclassification rate single model : 0.059973924380704\"\n"
     ]
    },
    {
     "data": {
      "text/html": [
       "<table class=\"dataframe\">\n",
       "<caption>A data.frame: 7 × 3</caption>\n",
       "<thead>\n",
       "\t<tr><th scope=col>HiddenNodes</th><th scope=col>AccuracyBagged</th><th scope=col>AccuracySimple</th></tr>\n",
       "\t<tr><th scope=col>&lt;dbl&gt;</th><th scope=col>&lt;dbl&gt;</th><th scope=col>&lt;dbl&gt;</th></tr>\n",
       "</thead>\n",
       "<tbody>\n",
       "\t<tr><td>  3</td><td>0.8826597</td><td>0.9291612</td></tr>\n",
       "\t<tr><td>  5</td><td>0.8431117</td><td>0.9413299</td></tr>\n",
       "\t<tr><td> 10</td><td>0.8105172</td><td>0.9278575</td></tr>\n",
       "\t<tr><td> 15</td><td>0.7631465</td><td>0.9222077</td></tr>\n",
       "\t<tr><td> 30</td><td>0.7953064</td><td>0.9304650</td></tr>\n",
       "\t<tr><td> 50</td><td>0.7770535</td><td>0.9209040</td></tr>\n",
       "\t<tr><td>100</td><td>0.7535854</td><td>0.9400261</td></tr>\n",
       "</tbody>\n",
       "</table>\n"
      ],
      "text/latex": [
       "A data.frame: 7 × 3\n",
       "\\begin{tabular}{lll}\n",
       " HiddenNodes & AccuracyBagged & AccuracySimple\\\\\n",
       " <dbl> & <dbl> & <dbl>\\\\\n",
       "\\hline\n",
       "\t   3 & 0.8826597 & 0.9291612\\\\\n",
       "\t   5 & 0.8431117 & 0.9413299\\\\\n",
       "\t  10 & 0.8105172 & 0.9278575\\\\\n",
       "\t  15 & 0.7631465 & 0.9222077\\\\\n",
       "\t  30 & 0.7953064 & 0.9304650\\\\\n",
       "\t  50 & 0.7770535 & 0.9209040\\\\\n",
       "\t 100 & 0.7535854 & 0.9400261\\\\\n",
       "\\end{tabular}\n"
      ],
      "text/markdown": [
       "\n",
       "A data.frame: 7 × 3\n",
       "\n",
       "| HiddenNodes &lt;dbl&gt; | AccuracyBagged &lt;dbl&gt; | AccuracySimple &lt;dbl&gt; |\n",
       "|---|---|---|\n",
       "|   3 | 0.8826597 | 0.9291612 |\n",
       "|   5 | 0.8431117 | 0.9413299 |\n",
       "|  10 | 0.8105172 | 0.9278575 |\n",
       "|  15 | 0.7631465 | 0.9222077 |\n",
       "|  30 | 0.7953064 | 0.9304650 |\n",
       "|  50 | 0.7770535 | 0.9209040 |\n",
       "| 100 | 0.7535854 | 0.9400261 |\n",
       "\n"
      ],
      "text/plain": [
       "  HiddenNodes AccuracyBagged AccuracySimple\n",
       "1   3         0.8826597      0.9291612     \n",
       "2   5         0.8431117      0.9413299     \n",
       "3  10         0.8105172      0.9278575     \n",
       "4  15         0.7631465      0.9222077     \n",
       "5  30         0.7953064      0.9304650     \n",
       "6  50         0.7770535      0.9209040     \n",
       "7 100         0.7535854      0.9400261     "
      ]
     },
     "metadata": {},
     "output_type": "display_data"
    }
   ],
   "source": [
    "n_bagging_resamples <- 10\n",
    "hidden_nodes_vec <- c(3,5,10,15,30,50,100)\n",
    "#hidden_nodes_vec <- c(3,5,10)\n",
    "\n",
    "accuracy_bagged_vec <- numeric()\n",
    "accuracy_simple_vec <- numeric()\n",
    "\n",
    "for(hidden_nodes in hidden_nodes_vec){\n",
    "    print(paste(\"[INFO] - Testing h=\",hidden_nodes))\n",
    "    results <- BaggingNN(hidden_nodes = hidden_nodes,n_bagging_resamples = n_bagging_resamples)\n",
    "    accuracy_bagged_vec <- c(accuracy_bagged_vec,results$accuracy_bagged)\n",
    "    accuracy_simple_vec <- c(accuracy_simple_vec,results$accuracy_simple)\n",
    "}\n",
    "\n",
    "data.frame(HiddenNodes=hidden_nodes_vec,AccuracyBagged=accuracy_bagged_vec,AccuracySimple=accuracy_simple_vec)"
   ]
  },
  {
   "cell_type": "code",
   "execution_count": 173,
   "metadata": {},
   "outputs": [],
   "source": [
    "saveRDS(data.frame(HiddenNodes=hidden_nodes_vec,AccuracyBagged=accuracy_bagged_vec,AccuracySimple=accuracy_simple_vec),\"BaggingNNResults.rds\")"
   ]
  },
  {
   "cell_type": "markdown",
   "metadata": {},
   "source": [
    "## Bonus - RSNNS"
   ]
  },
  {
   "cell_type": "code",
   "execution_count": 82,
   "metadata": {},
   "outputs": [
    {
     "name": "stdout",
     "output_type": "stream",
     "text": [
      "         test_label\n",
      "          nonspam spam\n",
      "  nonspam    1163  403\n",
      "  spam        234  501\n",
      "[1] \"[INFO] - Misclassification Rate - RSNNS: 0.27683615819209\"\n"
     ]
    }
   ],
   "source": [
    "data(spam)\n",
    "set.seed(1717)\n",
    "spam_idx <- sample(1:nrow(spam))\n",
    "half_split <- floor(nrow(spam)/2)\n",
    "target_variable <- ncol(spam)\n",
    "\n",
    "data <- spam[,-target_variable]\n",
    "\n",
    "#maxs <- apply(data, 2, max) \n",
    "#mins <- apply(data, 2, min)\n",
    "#scaled <- as.data.frame(scale(data, center = mins, scale = maxs - mins))\n",
    "\n",
    "scaled <- scale(data)\n",
    "\n",
    "train_data <- scaled[spam_idx[1:half_split],]\n",
    "train_label <- spam[spam_idx[1:half_split],target_variable]\n",
    "test_data <- scaled[spam_idx[(half_split+1):nrow(spam)],]\n",
    "test_label <- spam[spam_idx[(half_split+1):nrow(spam)],target_variable]\n",
    "threshold <- 0.5\n",
    "\n",
    "#centers <- c(5,10,15,20,30,50,100,150,200)\n",
    "centers <- c(50)\n",
    "accuracy_vec <- numeric()\n",
    "\n",
    "for(center in centers){\n",
    "  \n",
    "  rbfn_model <- RSNNS::rbf(as.matrix(train_data),\n",
    "                           decodeClassLabels(train_label),\n",
    "                           size=20, \n",
    "                           maxit=1000)\n",
    "\n",
    "  \n",
    "  Y_pred_rbfn <- predict(rbfn_model, test_data)\n",
    "  Y_hat_rbfn <- ifelse(Y_pred_rbfn[,2] > threshold,\"spam\",\"nonspam\")\n",
    "  accuracy <- computeResults(Y,Y_hat_rbfn,\"Radial Basis Function Network\")\n",
    "  accuracy_vec <- cbind(accuracy_vec,accuracy)\n",
    "}"
   ]
  },
  {
   "cell_type": "code",
   "execution_count": 161,
   "metadata": {},
   "outputs": [],
   "source": [
    "BaggingRBF <- function(hidden_nodes=5,n_bagging_resamples=10,threshold=0.5){\n",
    "    data(spam)\n",
    "    half_split <- floor(nrow(spam)/2)\n",
    "    target_variable <- ncol(spam)\n",
    "    accuracy_vec <- c()\n",
    "    \n",
    "    # 1. Shuffle the dataset randomly.\n",
    "    set.seed(1717)\n",
    "    spam_idx <- sample(1:nrow(spam))\n",
    "    \n",
    "    # 2. Normalize dataset\n",
    "    data <- spam[,-target_variable]\n",
    "    scaled <- scale(data)\n",
    "\n",
    "    # 3. Split shuffled dataset into training and test set\n",
    "    train_data <- scaled[spam_idx[1:half_split],]\n",
    "    train_label <- spam[spam_idx[1:half_split],target_variable]\n",
    "    test_data <- scaled[spam_idx[(half_split+1):nrow(spam)],]\n",
    "    test_label <- spam[spam_idx[(half_split+1):nrow(spam)],target_variable]\n",
    "   \n",
    "\n",
    "    n_train <- dim(train_data)[1]\n",
    "    Y_pred_models<-numeric()\n",
    "    Y_hat_bagged<-array(0,c(dim(test_data)[1],1))\n",
    "    Y <- test_label\n",
    "    accuracy_vec<-array(0,c(1,n_bagging_resamples))\n",
    "\n",
    "    for (i in 1:n_bagging_resamples)\n",
    "    {\n",
    "      # 1. Resample data from the training set\n",
    "      I_bag <- sample(seq(1,n_train),replace=TRUE)\n",
    "      # 2. Fit model\n",
    "      model <- RSNNS::rbf(as.matrix(train_data[I_bag,]),\n",
    "                           decodeClassLabels(as.matrix(train_label[I_bag])), # Training labels must be provided with one-hot-encoding\n",
    "                           size=hidden_nodes, \n",
    "                           maxit=100, \n",
    "                           #initFuncParams=c(0, 1, 0, 0.01, 0.01),\n",
    "                           #initFunc=\"RBF_Weights_Kohonen\",\n",
    "                           learnFuncParams=c(1e-8, 0, 1e-8, 0.1, 0.8), linOut=T, trace=T)\n",
    "      Y_pred <- predict(model,test_data)\n",
    "      Y_pred_models <- cbind(Y_pred_models,ifelse(Y_pred[,2] > threshold,1,0))\n",
    "      accuracy_vec[i] <- computeResults(Y,ifelse(Y_pred[,2] > threshold,\"spam\",\"nonspam\"),paste(i,\"th model\"),verbose=F)\n",
    "    }\n",
    "\n",
    "    # 3. Majority vote of the classifiers to make the prediction\n",
    "    # Computation trick : With classes being 0/1 if there is a majority of 1 classes, \n",
    "    # the sum of all the values should be greater than the number of models/2\n",
    "    Y_pred_bagged <- as.numeric(apply(Y_pred_models,1,sum) > (n_bagging_resamples/2))\n",
    "\n",
    "    #Y_pred_bagged <- apply(Y_pred_models,1,mean)\n",
    "    Y_hat_bagged <- ifelse(Y_pred_bagged,\"spam\",\"nonspam\")\n",
    "    accuracy_bag <- computeResults(Y,Y_hat_bagged,\"bagged model\",verbose=F)\n",
    "    \n",
    "    model_single_out <- RSNNS::rbf(as.matrix(train_data),\n",
    "                           decodeClassLabels(train_label),\n",
    "                           #nOutputs=2,\n",
    "                           size=hidden_nodes, \n",
    "                           maxit=100, \n",
    "                           #initFuncParams=c(0, 1, 0, 0.01, 0.01),\n",
    "                           #initFunc=\"RBF_Weights_Kohonen\",\n",
    "                           learnFuncParams=c(1e-8, 0, 1e-8, 0.1, 0.8), linOut=T, trace=T)\n",
    "\n",
    "    Y_pred_single_out <- predict(model_single_out,test_data)\n",
    "    Y_hat_single_out <- ifelse(Y_pred_single_out[,2] > threshold,\"spam\",\"nonspam\")\n",
    "    accuracy_single_out <- computeResults(Y,Y_hat_single_out,\"single model\")\n",
    "    return(list(accuracy_bagged=accuracy_bag,accuracy_simple=accuracy_single_out,bagging_accuracies=accuracy_vec))\n",
    "}"
   ]
  },
  {
   "cell_type": "code",
   "execution_count": 169,
   "metadata": {},
   "outputs": [
    {
     "name": "stdout",
     "output_type": "stream",
     "text": [
      "[1] \"[INFO] - Confusion matrix bagged model :\"\n",
      "         Y\n",
      "Y_hat     nonspam spam\n",
      "  nonspam    1347  139\n",
      "  spam         50  765\n",
      "[1] \"[INFO] - Accuracy bagged model : 0.917861799217731\"\n",
      "[1] \"[INFO] - Misclassification rate bagged model : 0.0821382007822686\"\n",
      "[1] \"[INFO] - Confusion matrix single model :\"\n",
      "         Y\n",
      "Y_hat     nonspam spam\n",
      "  nonspam    1347  133\n",
      "  spam         50  771\n",
      "[1] \"[INFO] - Accuracy single model : 0.920469361147327\"\n",
      "[1] \"[INFO] - Misclassification rate single model : 0.0795306388526728\"\n"
     ]
    },
    {
     "data": {
      "text/html": [
       "<dl>\n",
       "\t<dt>$accuracy_bagged</dt>\n",
       "\t\t<dd>0.917861799217731</dd>\n",
       "\t<dt>$accuracy_simple</dt>\n",
       "\t\t<dd>0.920469361147327</dd>\n",
       "\t<dt>$bagging_accuracies</dt>\n",
       "\t\t<dd><table class=\"dataframe\">\n",
       "<caption>A matrix: 1 × 100 of type dbl</caption>\n",
       "<tbody>\n",
       "\t<tr><td>0.9065624</td><td>0.8943937</td><td>0.916558</td><td>0.9148196</td><td>0.9078661</td><td>0.9126467</td><td>0.9191656</td><td>0.9222077</td><td>0.9139505</td><td>0.9052586</td><td>...</td><td>0.8991743</td><td>0.9109083</td><td>0.9078661</td><td>0.8687527</td><td>0.9009126</td><td>0.9100391</td><td>0.8274663</td><td>0.9104737</td><td>0.9043894</td><td>0.9156888</td></tr>\n",
       "</tbody>\n",
       "</table>\n",
       "</dd>\n",
       "</dl>\n"
      ],
      "text/latex": [
       "\\begin{description}\n",
       "\\item[\\$accuracy\\_bagged] 0.917861799217731\n",
       "\\item[\\$accuracy\\_simple] 0.920469361147327\n",
       "\\item[\\$bagging\\_accuracies] A matrix: 1 × 100 of type dbl\n",
       "\\begin{tabular}{lllllllllllllllllllll}\n",
       "\t 0.9065624 & 0.8943937 & 0.916558 & 0.9148196 & 0.9078661 & 0.9126467 & 0.9191656 & 0.9222077 & 0.9139505 & 0.9052586 & ... & 0.8991743 & 0.9109083 & 0.9078661 & 0.8687527 & 0.9009126 & 0.9100391 & 0.8274663 & 0.9104737 & 0.9043894 & 0.9156888\\\\\n",
       "\\end{tabular}\n",
       "\n",
       "\\end{description}\n"
      ],
      "text/markdown": [
       "$accuracy_bagged\n",
       ":   0.917861799217731\n",
       "$accuracy_simple\n",
       ":   0.920469361147327\n",
       "$bagging_accuracies\n",
       ":   \n",
       "A matrix: 1 × 100 of type dbl\n",
       "\n",
       "| 0.9065624 | 0.8943937 | 0.916558 | 0.9148196 | 0.9078661 | 0.9126467 | 0.9191656 | 0.9222077 | 0.9139505 | 0.9052586 | ... | 0.8991743 | 0.9109083 | 0.9078661 | 0.8687527 | 0.9009126 | 0.9100391 | 0.8274663 | 0.9104737 | 0.9043894 | 0.9156888 |\n",
       "\n",
       "\n",
       "\n",
       "\n"
      ],
      "text/plain": [
       "$accuracy_bagged\n",
       "[1] 0.9178618\n",
       "\n",
       "$accuracy_simple\n",
       "[1] 0.9204694\n",
       "\n",
       "$bagging_accuracies\n",
       "          [,1]      [,2]     [,3]      [,4]      [,5]      [,6]      [,7]\n",
       "[1,] 0.9065624 0.8943937 0.916558 0.9148196 0.9078661 0.9126467 0.9191656\n",
       "          [,8]      [,9]     [,10]     [,11]     [,12]     [,13]     [,14]\n",
       "[1,] 0.9222077 0.9139505 0.9052586 0.9065624 0.8913516 0.9109083 0.9074316\n",
       "         [,15]     [,16]     [,17]     [,18]     [,19]     [,20]     [,21]\n",
       "[1,] 0.9039548 0.9113429 0.8870056 0.9091699 0.9083007 0.9078661 0.9161234\n",
       "         [,22]     [,23]     [,24]     [,25]     [,26]     [,27]    [,28]\n",
       "[1,] 0.8774446 0.9122121 0.8978705 0.9052586 0.9035202 0.9161234 0.902651\n",
       "         [,29]     [,30]     [,31]     [,32]     [,33]     [,34]     [,35]\n",
       "[1,] 0.9039548 0.9065624 0.7249022 0.8765754 0.9052586 0.9074316 0.9078661\n",
       "         [,36]     [,37]     [,38]     [,39]     [,40]   [,41]     [,42]\n",
       "[1,] 0.9096045 0.9096045 0.7948718 0.9117775 0.8900478 0.89309 0.9052586\n",
       "         [,43]    [,44]     [,45]     [,46]     [,47]     [,48]     [,49]\n",
       "[1,] 0.9039548 0.914385 0.9156888 0.8978705 0.9130813 0.9113429 0.9087353\n",
       "         [,50]     [,51]     [,52]     [,53]     [,54]     [,55]     [,56]\n",
       "[1,] 0.6770969 0.9161234 0.9200348 0.5532377 0.9022164 0.9083007 0.9039548\n",
       "         [,57]     [,58]     [,59]     [,60]     [,61]     [,62]    [,63]\n",
       "[1,] 0.9152542 0.9152542 0.9178618 0.9065624 0.9035202 0.9100391 0.756193\n",
       "        [,64]     [,65]     [,66]     [,67]     [,68]     [,69]     [,70]\n",
       "[1,] 0.906997 0.4980443 0.9126467 0.8948283 0.9235115 0.9100391 0.9091699\n",
       "         [,71]     [,72]     [,73]    [,74]     [,75]     [,76]     [,77]\n",
       "[1,] 0.9030856 0.8983051 0.6201651 0.920904 0.9078661 0.9169926 0.9148196\n",
       "         [,78]     [,79]     [,80]     [,81]     [,82]     [,83]     [,84]\n",
       "[1,] 0.9061278 0.9100391 0.9122121 0.9113429 0.9083007 0.8943937 0.8913516\n",
       "         [,85]     [,86]     [,87]     [,88]     [,89]    [,90]     [,91]\n",
       "[1,] 0.8965667 0.9022164 0.9178618 0.9117775 0.6814429 0.916558 0.8991743\n",
       "         [,92]     [,93]     [,94]     [,95]     [,96]     [,97]     [,98]\n",
       "[1,] 0.9109083 0.9078661 0.8687527 0.9009126 0.9100391 0.8274663 0.9104737\n",
       "         [,99]    [,100]\n",
       "[1,] 0.9043894 0.9156888\n"
      ]
     },
     "metadata": {},
     "output_type": "display_data"
    }
   ],
   "source": [
    "BaggingRBF(hidden_nodes=50,n_bagging_resamples=100)"
   ]
  },
  {
   "cell_type": "code",
   "execution_count": 170,
   "metadata": {},
   "outputs": [
    {
     "name": "stdout",
     "output_type": "stream",
     "text": [
      "[1] \"[INFO] - Testing h= 3\"\n",
      "[1] \"[INFO] - Confusion matrix bagged model :\"\n",
      "         Y\n",
      "Y_hat     nonspam spam\n",
      "  nonspam    1394  799\n",
      "  spam          3  105\n",
      "[1] \"[INFO] - Accuracy bagged model : 0.651455888744024\"\n",
      "[1] \"[INFO] - Misclassification rate bagged model : 0.348544111255976\"\n",
      "[1] \"[INFO] - Confusion matrix single model :\"\n",
      "         Y\n",
      "Y_hat     nonspam spam\n",
      "  nonspam    1303  685\n",
      "  spam         94  219\n",
      "[1] \"[INFO] - Accuracy single model : 0.661451542807475\"\n",
      "[1] \"[INFO] - Misclassification rate single model : 0.338548457192525\"\n",
      "[1] \"[INFO] - Testing h= 5\"\n",
      "[1] \"[INFO] - Confusion matrix bagged model :\"\n",
      "         Y\n",
      "Y_hat     nonspam spam\n",
      "  nonspam    1357  352\n",
      "  spam         40  552\n",
      "[1] \"[INFO] - Accuracy bagged model : 0.829639287266406\"\n",
      "[1] \"[INFO] - Misclassification rate bagged model : 0.170360712733594\"\n",
      "[1] \"[INFO] - Confusion matrix single model :\"\n",
      "         Y\n",
      "Y_hat     nonspam spam\n",
      "  nonspam    1264  406\n",
      "  spam        133  498\n",
      "[1] \"[INFO] - Accuracy single model : 0.765754019991308\"\n",
      "[1] \"[INFO] - Misclassification rate single model : 0.234245980008692\"\n",
      "[1] \"[INFO] - Testing h= 10\"\n",
      "[1] \"[INFO] - Confusion matrix bagged model :\"\n",
      "         Y\n",
      "Y_hat     nonspam spam\n",
      "  nonspam    1352  283\n",
      "  spam         45  621\n",
      "[1] \"[INFO] - Accuracy bagged model : 0.857453281182095\"\n",
      "[1] \"[INFO] - Misclassification rate bagged model : 0.142546718817905\"\n",
      "[1] \"[INFO] - Confusion matrix single model :\"\n",
      "         Y\n",
      "Y_hat     nonspam spam\n",
      "  nonspam    1357  307\n",
      "  spam         40  597\n",
      "[1] \"[INFO] - Accuracy single model : 0.849196001738375\"\n",
      "[1] \"[INFO] - Misclassification rate single model : 0.150803998261625\"\n",
      "[1] \"[INFO] - Testing h= 15\"\n",
      "[1] \"[INFO] - Confusion matrix bagged model :\"\n",
      "         Y\n",
      "Y_hat     nonspam spam\n",
      "  nonspam    1343  236\n",
      "  spam         54  668\n",
      "[1] \"[INFO] - Accuracy bagged model : 0.873967840069535\"\n",
      "[1] \"[INFO] - Misclassification rate bagged model : 0.126032159930465\"\n",
      "[1] \"[INFO] - Confusion matrix single model :\"\n",
      "         Y\n",
      "Y_hat     nonspam spam\n",
      "  nonspam    1299  223\n",
      "  spam         98  681\n",
      "[1] \"[INFO] - Accuracy single model : 0.860495436766623\"\n",
      "[1] \"[INFO] - Misclassification rate single model : 0.139504563233377\"\n",
      "[1] \"[INFO] - Testing h= 30\"\n",
      "[1] \"[INFO] - Confusion matrix bagged model :\"\n",
      "         Y\n",
      "Y_hat     nonspam spam\n",
      "  nonspam    1348  172\n",
      "  spam         49  732\n",
      "[1] \"[INFO] - Accuracy bagged model : 0.903954802259887\"\n",
      "[1] \"[INFO] - Misclassification rate bagged model : 0.096045197740113\"\n",
      "[1] \"[INFO] - Confusion matrix single model :\"\n",
      "         Y\n",
      "Y_hat     nonspam spam\n",
      "  nonspam    1345  180\n",
      "  spam         52  724\n",
      "[1] \"[INFO] - Accuracy single model : 0.899174272055628\"\n",
      "[1] \"[INFO] - Misclassification rate single model : 0.100825727944372\"\n",
      "[1] \"[INFO] - Testing h= 50\"\n",
      "[1] \"[INFO] - Confusion matrix bagged model :\"\n",
      "         Y\n",
      "Y_hat     nonspam spam\n",
      "  nonspam    1347  138\n",
      "  spam         50  766\n",
      "[1] \"[INFO] - Accuracy bagged model : 0.918296392872664\"\n",
      "[1] \"[INFO] - Misclassification rate bagged model : 0.0817036071273359\"\n",
      "[1] \"[INFO] - Confusion matrix single model :\"\n",
      "         Y\n",
      "Y_hat     nonspam spam\n",
      "  nonspam    1345  132\n",
      "  spam         52  772\n",
      "[1] \"[INFO] - Accuracy single model : 0.920034767492395\"\n",
      "[1] \"[INFO] - Misclassification rate single model : 0.0799652325076053\"\n",
      "[1] \"[INFO] - Testing h= 100\"\n",
      "[1] \"[INFO] - Confusion matrix bagged model :\"\n",
      "         Y\n",
      "Y_hat     nonspam spam\n",
      "  nonspam    1355  134\n",
      "  spam         42  770\n",
      "[1] \"[INFO] - Accuracy bagged model : 0.923511516731856\"\n",
      "[1] \"[INFO] - Misclassification rate bagged model : 0.0764884832681443\"\n",
      "[1] \"[INFO] - Confusion matrix single model :\"\n",
      "         Y\n",
      "Y_hat     nonspam spam\n",
      "  nonspam    1353  157\n",
      "  spam         44  747\n",
      "[1] \"[INFO] - Accuracy single model : 0.91264667535854\"\n",
      "[1] \"[INFO] - Misclassification rate single model : 0.0873533246414603\"\n"
     ]
    },
    {
     "data": {
      "text/html": [
       "<table class=\"dataframe\">\n",
       "<caption>A data.frame: 7 × 3</caption>\n",
       "<thead>\n",
       "\t<tr><th scope=col>HiddenNodes</th><th scope=col>AccuracyBagged</th><th scope=col>AccuracySimple</th></tr>\n",
       "\t<tr><th scope=col>&lt;dbl&gt;</th><th scope=col>&lt;dbl&gt;</th><th scope=col>&lt;dbl&gt;</th></tr>\n",
       "</thead>\n",
       "<tbody>\n",
       "\t<tr><td>  3</td><td>0.6514559</td><td>0.6614515</td></tr>\n",
       "\t<tr><td>  5</td><td>0.8296393</td><td>0.7657540</td></tr>\n",
       "\t<tr><td> 10</td><td>0.8574533</td><td>0.8491960</td></tr>\n",
       "\t<tr><td> 15</td><td>0.8739678</td><td>0.8604954</td></tr>\n",
       "\t<tr><td> 30</td><td>0.9039548</td><td>0.8991743</td></tr>\n",
       "\t<tr><td> 50</td><td>0.9182964</td><td>0.9200348</td></tr>\n",
       "\t<tr><td>100</td><td>0.9235115</td><td>0.9126467</td></tr>\n",
       "</tbody>\n",
       "</table>\n"
      ],
      "text/latex": [
       "A data.frame: 7 × 3\n",
       "\\begin{tabular}{lll}\n",
       " HiddenNodes & AccuracyBagged & AccuracySimple\\\\\n",
       " <dbl> & <dbl> & <dbl>\\\\\n",
       "\\hline\n",
       "\t   3 & 0.6514559 & 0.6614515\\\\\n",
       "\t   5 & 0.8296393 & 0.7657540\\\\\n",
       "\t  10 & 0.8574533 & 0.8491960\\\\\n",
       "\t  15 & 0.8739678 & 0.8604954\\\\\n",
       "\t  30 & 0.9039548 & 0.8991743\\\\\n",
       "\t  50 & 0.9182964 & 0.9200348\\\\\n",
       "\t 100 & 0.9235115 & 0.9126467\\\\\n",
       "\\end{tabular}\n"
      ],
      "text/markdown": [
       "\n",
       "A data.frame: 7 × 3\n",
       "\n",
       "| HiddenNodes &lt;dbl&gt; | AccuracyBagged &lt;dbl&gt; | AccuracySimple &lt;dbl&gt; |\n",
       "|---|---|---|\n",
       "|   3 | 0.6514559 | 0.6614515 |\n",
       "|   5 | 0.8296393 | 0.7657540 |\n",
       "|  10 | 0.8574533 | 0.8491960 |\n",
       "|  15 | 0.8739678 | 0.8604954 |\n",
       "|  30 | 0.9039548 | 0.8991743 |\n",
       "|  50 | 0.9182964 | 0.9200348 |\n",
       "| 100 | 0.9235115 | 0.9126467 |\n",
       "\n"
      ],
      "text/plain": [
       "  HiddenNodes AccuracyBagged AccuracySimple\n",
       "1   3         0.6514559      0.6614515     \n",
       "2   5         0.8296393      0.7657540     \n",
       "3  10         0.8574533      0.8491960     \n",
       "4  15         0.8739678      0.8604954     \n",
       "5  30         0.9039548      0.8991743     \n",
       "6  50         0.9182964      0.9200348     \n",
       "7 100         0.9235115      0.9126467     "
      ]
     },
     "metadata": {},
     "output_type": "display_data"
    }
   ],
   "source": [
    "n_bagging_resamples <- 10\n",
    "hidden_nodes_vec <- c(3,5,10,15,30,50,100)\n",
    "#hidden_nodes_vec <- c(3,5,10)\n",
    "\n",
    "accuracy_bagged_vec <- numeric()\n",
    "accuracy_simple_vec <- numeric()\n",
    "\n",
    "for(hidden_nodes in hidden_nodes_vec){\n",
    "    print(paste(\"[INFO] - Testing h=\",hidden_nodes))\n",
    "    results <- BaggingRBF(hidden_nodes = hidden_nodes,n_bagging_resamples = n_bagging_resamples)\n",
    "    accuracy_bagged_vec <- c(accuracy_bagged_vec,results$accuracy_bagged)\n",
    "    accuracy_simple_vec <- c(accuracy_simple_vec,results$accuracy_simple)\n",
    "}\n"
   ]
  },
  {
   "cell_type": "code",
   "execution_count": 171,
   "metadata": {},
   "outputs": [],
   "source": [
    "saveRDS(data.frame(HiddenNodes=hidden_nodes_vec,AccuracyBagged=accuracy_bagged_vec,AccuracySimple=accuracy_simple_vec),\"BaggingRBFResults.rds\")"
   ]
  },
  {
   "cell_type": "markdown",
   "metadata": {},
   "source": [
    "## Bonus - Caret"
   ]
  },
  {
   "cell_type": "code",
   "execution_count": 26,
   "metadata": {},
   "outputs": [],
   "source": [
    "spam_idx <- sample(1:nrow(spam))\n",
    "half_split <- floor(nrow(spam)/2)\n",
    "target_variable <- ncol(spam)\n",
    "\n",
    "train_data <- spam[spam_idx[1:half_split],]\n",
    "test_data <- spam[spam_idx[(half_split+1):nrow(spam)],]\n",
    "threshold <- 0.5"
   ]
  },
  {
   "cell_type": "code",
   "execution_count": 27,
   "metadata": {},
   "outputs": [
    {
     "name": "stderr",
     "output_type": "stream",
     "text": [
      "Warning message:\n",
      "\"package 'caret' was built under R version 4.0.5\"\n",
      "Loading required package: lattice\n",
      "\n",
      "Loading required package: ggplot2\n",
      "\n",
      "Warning message:\n",
      "\"package 'ggplot2' was built under R version 4.0.4\"\n",
      "\n",
      "Attaching package: 'ggplot2'\n",
      "\n",
      "\n",
      "The following object is masked from 'package:kernlab':\n",
      "\n",
      "    alpha\n",
      "\n",
      "\n",
      "\n",
      "Attaching package: 'caret'\n",
      "\n",
      "\n",
      "The following objects are masked from 'package:RSNNS':\n",
      "\n",
      "    confusionMatrix, train\n",
      "\n",
      "\n"
     ]
    }
   ],
   "source": [
    "library(caret)\n",
    "fitControl <- trainControl(## 3-fold CV\n",
    "                           method = \"cv\",\n",
    "                           number = 3)"
   ]
  },
  {
   "cell_type": "code",
   "execution_count": 28,
   "metadata": {},
   "outputs": [
    {
     "data": {
      "text/html": [
       "<table class=\"dataframe\">\n",
       "<caption>A data.frame: 6 × 2</caption>\n",
       "<thead>\n",
       "\t<tr><th scope=col>decay</th><th scope=col>size</th></tr>\n",
       "\t<tr><th scope=col>&lt;dbl&gt;</th><th scope=col>&lt;dbl&gt;</th></tr>\n",
       "</thead>\n",
       "<tbody>\n",
       "\t<tr><td>0</td><td> 3</td></tr>\n",
       "\t<tr><td>0</td><td> 5</td></tr>\n",
       "\t<tr><td>0</td><td>10</td></tr>\n",
       "\t<tr><td>0</td><td>15</td></tr>\n",
       "\t<tr><td>0</td><td>20</td></tr>\n",
       "\t<tr><td>0</td><td>50</td></tr>\n",
       "</tbody>\n",
       "</table>\n"
      ],
      "text/latex": [
       "A data.frame: 6 × 2\n",
       "\\begin{tabular}{ll}\n",
       " decay & size\\\\\n",
       " <dbl> & <dbl>\\\\\n",
       "\\hline\n",
       "\t 0 &  3\\\\\n",
       "\t 0 &  5\\\\\n",
       "\t 0 & 10\\\\\n",
       "\t 0 & 15\\\\\n",
       "\t 0 & 20\\\\\n",
       "\t 0 & 50\\\\\n",
       "\\end{tabular}\n"
      ],
      "text/markdown": [
       "\n",
       "A data.frame: 6 × 2\n",
       "\n",
       "| decay &lt;dbl&gt; | size &lt;dbl&gt; |\n",
       "|---|---|\n",
       "| 0 |  3 |\n",
       "| 0 |  5 |\n",
       "| 0 | 10 |\n",
       "| 0 | 15 |\n",
       "| 0 | 20 |\n",
       "| 0 | 50 |\n",
       "\n"
      ],
      "text/plain": [
       "  decay size\n",
       "1 0      3  \n",
       "2 0      5  \n",
       "3 0     10  \n",
       "4 0     15  \n",
       "5 0     20  \n",
       "6 0     50  "
      ]
     },
     "metadata": {},
     "output_type": "display_data"
    },
    {
     "data": {
      "text/plain": [
       "Neural Network \n",
       "\n",
       "2300 samples\n",
       "  57 predictor\n",
       "   2 classes: 'nonspam', 'spam' \n",
       "\n",
       "No pre-processing\n",
       "Resampling: Cross-Validated (3 fold) \n",
       "Summary of sample sizes: 1534, 1533, 1533 \n",
       "Resampling results across tuning parameters:\n",
       "\n",
       "  size  Accuracy   Kappa    \n",
       "   3    0.9126109  0.8163074\n",
       "   5    0.9226134  0.8365969\n",
       "  10    0.9043554  0.7988075\n",
       "  15    0.9195690  0.8301858\n",
       "  20    0.9121775  0.8153492\n",
       "  50    0.9130444  0.8180782\n",
       "\n",
       "Tuning parameter 'decay' was held constant at a value of 0\n",
       "Accuracy was used to select the optimal model using the largest value.\n",
       "The final values used for the model were size = 5 and decay = 0."
      ]
     },
     "metadata": {},
     "output_type": "display_data"
    }
   ],
   "source": [
    "parameterGrid <-  expand.grid(decay=0,\n",
    "                              size=c(3,5,10,15,20,50))\n",
    "\n",
    "                        \n",
    "parameterGrid\n",
    "\n",
    "model_caret <- train(type ~ ., data = train_data, \n",
    "                 method = \"nnet\", \n",
    "                 trControl = fitControl, \n",
    "                 verbose = FALSE,\n",
    "                 skip=FALSE,\n",
    "                 maxit=10000,\n",
    "                 trace=F,\n",
    "                 rang=0.2,\n",
    "                 MaxNWts=10000,\n",
    "                 ## Now specify the exact models \n",
    "                 ## to evaluate:\n",
    "                 tuneGrid = parameterGrid)\n",
    "model_caret"
   ]
  },
  {
   "cell_type": "code",
   "execution_count": 29,
   "metadata": {},
   "outputs": [
    {
     "data": {
      "image/png": "[encoded data removed]",
      "text/plain": [
       "plot without title"
      ]
     },
     "metadata": {
      "image/png": {
       "height": 600,
       "width": 1200
      }
     },
     "output_type": "display_data"
    }
   ],
   "source": [
    "trellis.par.set(caretTheme())\n",
    "plot(model_caret)\n",
    "saveRDS(model_caret,\"model_caret.rds\")"
   ]
  },
  {
   "cell_type": "code",
   "execution_count": 30,
   "metadata": {},
   "outputs": [
    {
     "data": {
      "text/plain": [
       "a 57-5-1 network with 296 weights\n",
       "inputs: make address all num3d our over remove internet order mail receive will people report addresses free business email you credit your font num000 money hp hpl george num650 lab labs telnet num857 data num415 num85 technology num1999 parts pm direct cs meeting original project re edu table conference charSemicolon charRoundbracket charSquarebracket charExclamation charDollar charHash capitalAve capitalLong capitalTotal \n",
       "output(s): .outcome \n",
       "options were - entropy fitting "
      ]
     },
     "metadata": {},
     "output_type": "display_data"
    }
   ],
   "source": [
    "model_caret$"
   ]
  },
  {
   "cell_type": "code",
   "execution_count": 5,
   "metadata": {},
   "outputs": [
    {
     "data": {
      "text/html": [
       "<table class=\"dataframe\">\n",
       "<caption>A data.frame: 6 × 2</caption>\n",
       "<thead>\n",
       "\t<tr><th scope=col>decay</th><th scope=col>size</th></tr>\n",
       "\t<tr><th scope=col>&lt;dbl&gt;</th><th scope=col>&lt;dbl&gt;</th></tr>\n",
       "</thead>\n",
       "<tbody>\n",
       "\t<tr><td>0</td><td> 3</td></tr>\n",
       "\t<tr><td>0</td><td> 5</td></tr>\n",
       "\t<tr><td>0</td><td>10</td></tr>\n",
       "\t<tr><td>0</td><td>15</td></tr>\n",
       "\t<tr><td>0</td><td>20</td></tr>\n",
       "\t<tr><td>0</td><td>50</td></tr>\n",
       "</tbody>\n",
       "</table>\n"
      ],
      "text/latex": [
       "A data.frame: 6 × 2\n",
       "\\begin{tabular}{ll}\n",
       " decay & size\\\\\n",
       " <dbl> & <dbl>\\\\\n",
       "\\hline\n",
       "\t 0 &  3\\\\\n",
       "\t 0 &  5\\\\\n",
       "\t 0 & 10\\\\\n",
       "\t 0 & 15\\\\\n",
       "\t 0 & 20\\\\\n",
       "\t 0 & 50\\\\\n",
       "\\end{tabular}\n"
      ],
      "text/markdown": [
       "\n",
       "A data.frame: 6 × 2\n",
       "\n",
       "| decay &lt;dbl&gt; | size &lt;dbl&gt; |\n",
       "|---|---|\n",
       "| 0 |  3 |\n",
       "| 0 |  5 |\n",
       "| 0 | 10 |\n",
       "| 0 | 15 |\n",
       "| 0 | 20 |\n",
       "| 0 | 50 |\n",
       "\n"
      ],
      "text/plain": [
       "  decay size\n",
       "1 0      3  \n",
       "2 0      5  \n",
       "3 0     10  \n",
       "4 0     15  \n",
       "5 0     20  \n",
       "6 0     50  "
      ]
     },
     "metadata": {},
     "output_type": "display_data"
    },
    {
     "data": {
      "text/plain": [
       "Neural Network \n",
       "\n",
       "2300 samples\n",
       "  57 predictor\n",
       "   2 classes: 'nonspam', 'spam' \n",
       "\n",
       "No pre-processing\n",
       "Resampling: Cross-Validated (3 fold) \n",
       "Summary of sample sizes: 1533, 1533, 1534 \n",
       "Resampling results across tuning parameters:\n",
       "\n",
       "  size  Accuracy   Kappa    \n",
       "   3    0.9082588  0.8095284\n",
       "   5    0.9182589  0.8278818\n",
       "  10    0.8939075  0.7785047\n",
       "  15    0.9008695  0.7938400\n",
       "  20    0.8908620  0.7714607\n",
       "  50    0.8960890  0.7827264\n",
       "\n",
       "Tuning parameter 'decay' was held constant at a value of 0\n",
       "Accuracy was used to select the optimal model using the largest value.\n",
       "The final values used for the model were size = 5 and decay = 0."
      ]
     },
     "metadata": {},
     "output_type": "display_data"
    },
    {
     "data": {
      "text/plain": [
       "Neural Network \n",
       "\n",
       "2300 samples\n",
       "  57 predictor\n",
       "   2 classes: 'nonspam', 'spam' \n",
       "\n",
       "No pre-processing\n",
       "Resampling: Cross-Validated (3 fold) \n",
       "Summary of sample sizes: 1534, 1532, 1534 \n",
       "Resampling results across tuning parameters:\n",
       "\n",
       "  size  Accuracy   Kappa    \n",
       "   3    0.9065152  0.8034519\n",
       "   5    0.9117428  0.8163216\n",
       "  10    0.9034792  0.7967564\n",
       "  15    0.8973859  0.7846249\n",
       "  20    0.9021828  0.7953906\n",
       "  50    0.9056539  0.8012454\n",
       "\n",
       "Tuning parameter 'decay' was held constant at a value of 0\n",
       "Accuracy was used to select the optimal model using the largest value.\n",
       "The final values used for the model were size = 5 and decay = 0."
      ]
     },
     "metadata": {},
     "output_type": "display_data"
    },
    {
     "data": {
      "text/plain": [
       "Neural Network \n",
       "\n",
       "2300 samples\n",
       "  57 predictor\n",
       "   2 classes: 'nonspam', 'spam' \n",
       "\n",
       "No pre-processing\n",
       "Resampling: Cross-Validated (3 fold) \n",
       "Summary of sample sizes: 1534, 1533, 1533 \n",
       "Resampling results across tuning parameters:\n",
       "\n",
       "  size  Accuracy   Kappa    \n",
       "   3    0.8130844  0.5442253\n",
       "   5    0.9239166  0.8393957\n",
       "  10    0.9256504  0.8433939\n",
       "  15    0.9139147  0.8188729\n",
       "  20    0.9169580  0.8252075\n",
       "  50    0.9173932  0.8261491\n",
       "\n",
       "Tuning parameter 'decay' was held constant at a value of 0\n",
       "Accuracy was used to select the optimal model using the largest value.\n",
       "The final values used for the model were size = 10 and decay = 0."
      ]
     },
     "metadata": {},
     "output_type": "display_data"
    }
   ],
   "source": [
    "parameterGrid <-  expand.grid(decay=0,\n",
    "                              size=c(3,5,10,15,20,50))\n",
    "                        \n",
    "parameterGrid\n",
    "\n",
    "preProcValues <- preProcess(train_data, method = c(\"center\", \"scale\"))\n",
    "\n",
    "model_caret_scaled <- train(type ~ ., data = predict(preProcValues,train_data), \n",
    "                 method = \"nnet\", \n",
    "                 trControl = fitControl, \n",
    "                 verbose = FALSE,\n",
    "                 skip=FALSE,\n",
    "                 maxit=10000,\n",
    "                 trace=F,\n",
    "                 rang=0.2,\n",
    "                 MaxNWts=10000,\n",
    "                 ## Now specify the exact models \n",
    "                 ## to evaluate:\n",
    "                 tuneGrid = parameterGrid)\n",
    "\n",
    "preProcValues <- preProcess(train_data, method = c(\"range\"))\n",
    "\n",
    "model_caret_ranged <- train(type ~ ., data = predict(preProcValues,train_data), \n",
    "                 method = \"nnet\", \n",
    "                 trControl = fitControl, \n",
    "                 verbose = FALSE,\n",
    "                 skip=FALSE,\n",
    "                 maxit=10000,\n",
    "                 trace=F,\n",
    "                 rang=0.2,\n",
    "                 MaxNWts=10000,\n",
    "                 ## Now specify the exact models \n",
    "                 ## to evaluate:\n",
    "                 tuneGrid = parameterGrid)\n",
    "\n",
    "\n",
    "model_caret_raw <- train(type ~ ., data=train_data, \n",
    "                 method = \"nnet\", \n",
    "                 trControl = fitControl, \n",
    "                 verbose = FALSE,\n",
    "                 skip=FALSE,\n",
    "                 maxit=10000,\n",
    "                 trace=F,\n",
    "                 rang=0.2,\n",
    "                 MaxNWts=10000,\n",
    "                 ## Now specify the exact models \n",
    "                 ## to evaluate:\n",
    "                 tuneGrid = parameterGrid)\n",
    "\n",
    "model_caret_scaled\n",
    "model_caret_ranged\n",
    "model_caret_raw"
   ]
  },
  {
   "cell_type": "code",
   "execution_count": 6,
   "metadata": {},
   "outputs": [
    {
     "data": {
      "text/html": [
       "<table class=\"dataframe\">\n",
       "<caption>A data.frame: 6 × 1</caption>\n",
       "<thead>\n",
       "\t<tr><th scope=col>size</th></tr>\n",
       "\t<tr><th scope=col>&lt;dbl&gt;</th></tr>\n",
       "</thead>\n",
       "<tbody>\n",
       "\t<tr><td> 3</td></tr>\n",
       "\t<tr><td> 5</td></tr>\n",
       "\t<tr><td>10</td></tr>\n",
       "\t<tr><td>15</td></tr>\n",
       "\t<tr><td>20</td></tr>\n",
       "\t<tr><td>50</td></tr>\n",
       "</tbody>\n",
       "</table>\n"
      ],
      "text/latex": [
       "A data.frame: 6 × 1\n",
       "\\begin{tabular}{l}\n",
       " size\\\\\n",
       " <dbl>\\\\\n",
       "\\hline\n",
       "\t  3\\\\\n",
       "\t  5\\\\\n",
       "\t 10\\\\\n",
       "\t 15\\\\\n",
       "\t 20\\\\\n",
       "\t 50\\\\\n",
       "\\end{tabular}\n"
      ],
      "text/markdown": [
       "\n",
       "A data.frame: 6 × 1\n",
       "\n",
       "| size &lt;dbl&gt; |\n",
       "|---|\n",
       "|  3 |\n",
       "|  5 |\n",
       "| 10 |\n",
       "| 15 |\n",
       "| 20 |\n",
       "| 50 |\n",
       "\n"
      ],
      "text/plain": [
       "  size\n",
       "1  3  \n",
       "2  5  \n",
       "3 10  \n",
       "4 15  \n",
       "5 20  \n",
       "6 50  "
      ]
     },
     "metadata": {},
     "output_type": "display_data"
    },
    {
     "data": {
      "text/plain": [
       "Radial Basis Function Network \n",
       "\n",
       "2300 samples\n",
       "  57 predictor\n",
       "   2 classes: 'nonspam', 'spam' \n",
       "\n",
       "No pre-processing\n",
       "Resampling: Cross-Validated (3 fold) \n",
       "Summary of sample sizes: 1532, 1534, 1534 \n",
       "Resampling results across tuning parameters:\n",
       "\n",
       "  size  Accuracy   Kappa    \n",
       "   3    0.7869547  0.5366673\n",
       "   5    0.8060723  0.5793887\n",
       "  10    0.8343725  0.6401454\n",
       "  15    0.8465026  0.6664785\n",
       "  20    0.8634830  0.7045699\n",
       "  50    0.8930252  0.7692242\n",
       "\n",
       "Accuracy was used to select the optimal model using the largest value.\n",
       "The final value used for the model was size = 50."
      ]
     },
     "metadata": {},
     "output_type": "display_data"
    },
    {
     "data": {
      "text/plain": [
       "Radial Basis Function Network \n",
       "\n",
       "2300 samples\n",
       "  57 predictor\n",
       "   2 classes: 'nonspam', 'spam' \n",
       "\n",
       "No pre-processing\n",
       "Resampling: Cross-Validated (3 fold) \n",
       "Summary of sample sizes: 1534, 1533, 1533 \n",
       "Resampling results across tuning parameters:\n",
       "\n",
       "  size  Accuracy   Kappa    \n",
       "   3    0.7286842  0.3796655\n",
       "   5    0.7547825  0.4676607\n",
       "  10    0.6626617  0.2451587\n",
       "  15    0.7230413  0.4104738\n",
       "  20    0.7134456  0.3931790\n",
       "  50    0.6269938  0.2328775\n",
       "\n",
       "Accuracy was used to select the optimal model using the largest value.\n",
       "The final value used for the model was size = 5."
      ]
     },
     "metadata": {},
     "output_type": "display_data"
    },
    {
     "data": {
      "text/plain": [
       "Radial Basis Function Network \n",
       "\n",
       "2300 samples\n",
       "  57 predictor\n",
       "   2 classes: 'nonspam', 'spam' \n",
       "\n",
       "No pre-processing\n",
       "Resampling: Cross-Validated (3 fold) \n",
       "Summary of sample sizes: 1533, 1534, 1533 \n",
       "Resampling results across tuning parameters:\n",
       "\n",
       "  size  Accuracy   Kappa        \n",
       "   3    0.6104356  -0.0003699801\n",
       "   5    0.6117388   0.0027169299\n",
       "  10    0.6121740   0.0080201361\n",
       "  15    0.6121745   0.0085043540\n",
       "  20    0.6095653   0.0043204976\n",
       "  50    0.6561037   0.2367872295\n",
       "\n",
       "Accuracy was used to select the optimal model using the largest value.\n",
       "The final value used for the model was size = 50."
      ]
     },
     "metadata": {},
     "output_type": "display_data"
    }
   ],
   "source": [
    "parameterGrid <-  expand.grid(size=c(3,5,10,15,20,50))\n",
    "                        \n",
    "parameterGrid\n",
    "\n",
    "preProcValues <- preProcess(train_data, method = c(\"center\", \"scale\"))\n",
    "\n",
    "model_caret_scaled <- train(type ~ ., data = predict(preProcValues,train_data), \n",
    "                 method = \"rbf\", \n",
    "                 trControl = fitControl, \n",
    "                 ## Now specify the exact models \n",
    "                 ## to evaluate:\n",
    "                 tuneGrid = parameterGrid)\n",
    "\n",
    "preProcValues <- preProcess(train_data, method = c(\"range\"))\n",
    "\n",
    "model_caret_ranged <- train(type ~ ., data = predict(preProcValues,train_data), \n",
    "                 method = \"rbf\", \n",
    "                 trControl = fitControl, \n",
    "                 ## Now specify the exact models \n",
    "                 ## to evaluate:\n",
    "                 tuneGrid = parameterGrid)\n",
    "\n",
    "model_caret_raw <- train(type ~ ., data=train_data, \n",
    "                 method = \"rbf\", \n",
    "                 trControl = fitControl, \n",
    "                 ## Now specify the exact models \n",
    "                 ## to evaluate:\n",
    "                 tuneGrid = parameterGrid)\n",
    "\n",
    "model_caret_scaled\n",
    "model_caret_ranged\n",
    "model_caret_raw"
   ]
  },
  {
   "cell_type": "code",
   "execution_count": 9,
   "metadata": {},
   "outputs": [
    {
     "data": {
      "text/html": [
       "<table class=\"dataframe\">\n",
       "<caption>A data.frame: 6 × 3</caption>\n",
       "<thead>\n",
       "\t<tr><th scope=col>layer1</th><th scope=col>layer2</th><th scope=col>layer3</th></tr>\n",
       "\t<tr><th scope=col>&lt;dbl&gt;</th><th scope=col>&lt;dbl&gt;</th><th scope=col>&lt;dbl&gt;</th></tr>\n",
       "</thead>\n",
       "<tbody>\n",
       "\t<tr><td> 3</td><td>5</td><td>2</td></tr>\n",
       "\t<tr><td> 5</td><td>5</td><td>2</td></tr>\n",
       "\t<tr><td>10</td><td>5</td><td>2</td></tr>\n",
       "\t<tr><td>15</td><td>5</td><td>2</td></tr>\n",
       "\t<tr><td>20</td><td>5</td><td>2</td></tr>\n",
       "\t<tr><td>50</td><td>5</td><td>2</td></tr>\n",
       "</tbody>\n",
       "</table>\n"
      ],
      "text/latex": [
       "A data.frame: 6 × 3\n",
       "\\begin{tabular}{lll}\n",
       " layer1 & layer2 & layer3\\\\\n",
       " <dbl> & <dbl> & <dbl>\\\\\n",
       "\\hline\n",
       "\t  3 & 5 & 2\\\\\n",
       "\t  5 & 5 & 2\\\\\n",
       "\t 10 & 5 & 2\\\\\n",
       "\t 15 & 5 & 2\\\\\n",
       "\t 20 & 5 & 2\\\\\n",
       "\t 50 & 5 & 2\\\\\n",
       "\\end{tabular}\n"
      ],
      "text/markdown": [
       "\n",
       "A data.frame: 6 × 3\n",
       "\n",
       "| layer1 &lt;dbl&gt; | layer2 &lt;dbl&gt; | layer3 &lt;dbl&gt; |\n",
       "|---|---|---|\n",
       "|  3 | 5 | 2 |\n",
       "|  5 | 5 | 2 |\n",
       "| 10 | 5 | 2 |\n",
       "| 15 | 5 | 2 |\n",
       "| 20 | 5 | 2 |\n",
       "| 50 | 5 | 2 |\n",
       "\n"
      ],
      "text/plain": [
       "  layer1 layer2 layer3\n",
       "1  3     5      2     \n",
       "2  5     5      2     \n",
       "3 10     5      2     \n",
       "4 15     5      2     \n",
       "5 20     5      2     \n",
       "6 50     5      2     "
      ]
     },
     "metadata": {},
     "output_type": "display_data"
    },
    {
     "data": {
      "text/plain": [
       "Multi-Layer Perceptron, with multiple layers \n",
       "\n",
       "2300 samples\n",
       "  57 predictor\n",
       "   2 classes: 'nonspam', 'spam' \n",
       "\n",
       "No pre-processing\n",
       "Resampling: Cross-Validated (3 fold) \n",
       "Summary of sample sizes: 1533, 1534, 1533 \n",
       "Resampling results across tuning parameters:\n",
       "\n",
       "  layer1  Accuracy   Kappa    \n",
       "   3      0.9286909  0.8505252\n",
       "   5      0.9221737  0.8365792\n",
       "  10      0.9173932  0.8276810\n",
       "  15      0.9265213  0.8447806\n",
       "  20      0.9252215  0.8438999\n",
       "  50      0.9278262  0.8483016\n",
       "\n",
       "Tuning parameter 'layer2' was held constant at a value of 5\n",
       "Tuning\n",
       " parameter 'layer3' was held constant at a value of 2\n",
       "Accuracy was used to select the optimal model using the largest value.\n",
       "The final values used for the model were layer1 = 3, layer2 = 5 and layer3 = 2."
      ]
     },
     "metadata": {},
     "output_type": "display_data"
    },
    {
     "data": {
      "text/plain": [
       "Multi-Layer Perceptron, with multiple layers \n",
       "\n",
       "2300 samples\n",
       "  57 predictor\n",
       "   2 classes: 'nonspam', 'spam' \n",
       "\n",
       "No pre-processing\n",
       "Resampling: Cross-Validated (3 fold) \n",
       "Summary of sample sizes: 1534, 1534, 1532 \n",
       "Resampling results across tuning parameters:\n",
       "\n",
       "  layer1  Accuracy   Kappa    \n",
       "   3      0.6108697  0.0000000\n",
       "   5      0.6996426  0.2451346\n",
       "  10      0.6108697  0.0000000\n",
       "  15      0.7102621  0.2683356\n",
       "  20      0.8804134  0.7412874\n",
       "  50      0.7131326  0.2753445\n",
       "\n",
       "Tuning parameter 'layer2' was held constant at a value of 5\n",
       "Tuning\n",
       " parameter 'layer3' was held constant at a value of 2\n",
       "Accuracy was used to select the optimal model using the largest value.\n",
       "The final values used for the model were layer1 = 20, layer2 = 5 and layer3 = 2."
      ]
     },
     "metadata": {},
     "output_type": "display_data"
    },
    {
     "data": {
      "text/plain": [
       "Multi-Layer Perceptron, with multiple layers \n",
       "\n",
       "2300 samples\n",
       "  57 predictor\n",
       "   2 classes: 'nonspam', 'spam' \n",
       "\n",
       "No pre-processing\n",
       "Resampling: Cross-Validated (3 fold) \n",
       "Summary of sample sizes: 1533, 1533, 1534 \n",
       "Resampling results across tuning parameters:\n",
       "\n",
       "  layer1  Accuracy   Kappa       \n",
       "   3      0.6108696   0.000000000\n",
       "   5      0.6108696   0.000000000\n",
       "  10      0.6108696   0.000000000\n",
       "  15      0.6108696   0.000000000\n",
       "  20      0.6108696   0.000000000\n",
       "  50      0.6091312  -0.003466531\n",
       "\n",
       "Tuning parameter 'layer2' was held constant at a value of 5\n",
       "Tuning\n",
       " parameter 'layer3' was held constant at a value of 2\n",
       "Accuracy was used to select the optimal model using the largest value.\n",
       "The final values used for the model were layer1 = 3, layer2 = 5 and layer3 = 2."
      ]
     },
     "metadata": {},
     "output_type": "display_data"
    }
   ],
   "source": [
    "parameterGrid <-  expand.grid(layer1=c(3,5,10,15,20,50),\n",
    "                              layer2=5,\n",
    "                              layer3=2)\n",
    "                        \n",
    "parameterGrid\n",
    "\n",
    "preProcValues <- preProcess(train_data, method = c(\"center\", \"scale\"))\n",
    "\n",
    "model_caret_scaled <- train(type ~ ., data = predict(preProcValues,train_data), \n",
    "                 method = \"mlpML\", \n",
    "                 trControl = fitControl, \n",
    "                 ## Now specify the exact models \n",
    "                 ## to evaluate:\n",
    "                 tuneGrid = parameterGrid)\n",
    "\n",
    "preProcValues <- preProcess(train_data, method = c(\"range\"))\n",
    "\n",
    "model_caret_ranged <- train(type ~ ., data = predict(preProcValues,train_data), \n",
    "                 method = \"mlpML\", \n",
    "                 trControl = fitControl, \n",
    "                 ## Now specify the exact models \n",
    "                 ## to evaluate:\n",
    "                 tuneGrid = parameterGrid)\n",
    "\n",
    "model_caret_raw <- train(type ~ ., data=train_data, \n",
    "                 method = \"mlpML\", \n",
    "                 trControl = fitControl, \n",
    "                 ## Now specify the exact models \n",
    "                 ## to evaluate:\n",
    "                 tuneGrid = parameterGrid)\n",
    "\n",
    "model_caret_scaled\n",
    "model_caret_ranged\n",
    "model_caret_raw"
   ]
  }
 ],
 "metadata": {
  "anaconda-cloud": {},
  "kernelspec": {
   "display_name": "R",
   "language": "R",
   "name": "ir"
  },
  "language_info": {
   "codemirror_mode": "r",
   "file_extension": ".r",
   "mimetype": "text/x-r-source",
   "name": "R",
   "pygments_lexer": "r",
   "version": "4.0.3"
  },
  "latex_envs": {
   "LaTeX_envs_menu_present": true,
   "autoclose": false,
   "autocomplete": true,
   "bibliofile": "biblio.bib",
   "cite_by": "apalike",
   "current_citInitial": 1,
   "eqLabelWithNumbers": true,
   "eqNumInitial": 1,
   "hotkeys": {
    "equation": "Ctrl-E",
    "itemize": "Ctrl-I"
   },
   "labels_anchors": false,
   "latex_user_defs": false,
   "report_style_numbering": false,
   "user_envs_cfg": false
  },
  "toc": {
   "base_numbering": 1,
   "nav_menu": {},
   "number_sections": true,
   "sideBar": true,
   "skip_h1_title": false,
   "title_cell": "Table of Contents",
   "title_sidebar": "Contents",
   "toc_cell": false,
   "toc_position": {},
   "toc_section_display": true,
   "toc_window_display": false
  },
  "varInspector": {
   "cols": {
    "lenName": 16,
    "lenType": 16,
    "lenVar": 40
   },
   "kernels_config": {
    "python": {
     "delete_cmd_postfix": "",
     "delete_cmd_prefix": "del ",
     "library": "var_list.py",
     "varRefreshCmd": "print(var_dic_list())"
    },
    "r": {
     "delete_cmd_postfix": ") ",
     "delete_cmd_prefix": "rm(",
     "library": "var_list.r",
     "varRefreshCmd": "cat(var_dic_list()) "
    }
   },
   "types_to_exclude": [
    "module",
    "function",
    "builtin_function_or_method",
    "instance",
    "_Feature"
   ],
   "window_display": false
  }
 },
 "nbformat": 4,
 "nbformat_minor": 4
}
